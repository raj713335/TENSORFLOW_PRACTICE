{
 "cells": [
  {
   "cell_type": "markdown",
   "metadata": {},
   "source": [
    "# Predicting the final grade of a student\n",
    "\n",
    "The data used is from a Portuguese secondary school. The data includes academic and personal characteristics of the students as well as final grades. The task is to predict the final grade from the student information. (K Means Clustering)"
   ]
  },
  {
   "cell_type": "markdown",
   "metadata": {},
   "source": [
    "# K Means Clustering Implementation in python"
   ]
  },
  {
   "cell_type": "markdown",
   "metadata": {},
   "source": [
    "### Import the relevent Modules"
   ]
  },
  {
   "cell_type": "code",
   "execution_count": 39,
   "metadata": {},
   "outputs": [],
   "source": [
    "import pandas as pd\n",
    "import numpy as np\n",
    "import seaborn as sns\n",
    "import matplotlib.pyplot as plt\n",
    "\n",
    "%matplotlib inline\n",
    "sns.set_style('whitegrid')\n",
    "plt.style.use('fivethirtyeight')"
   ]
  },
  {
   "cell_type": "code",
   "execution_count": 40,
   "metadata": {},
   "outputs": [
    {
     "data": {
      "text/html": [
       "<div>\n",
       "<style scoped>\n",
       "    .dataframe tbody tr th:only-of-type {\n",
       "        vertical-align: middle;\n",
       "    }\n",
       "\n",
       "    .dataframe tbody tr th {\n",
       "        vertical-align: top;\n",
       "    }\n",
       "\n",
       "    .dataframe thead th {\n",
       "        text-align: right;\n",
       "    }\n",
       "</style>\n",
       "<table border=\"1\" class=\"dataframe\">\n",
       "  <thead>\n",
       "    <tr style=\"text-align: right;\">\n",
       "      <th></th>\n",
       "      <th>school</th>\n",
       "      <th>sex</th>\n",
       "      <th>age</th>\n",
       "      <th>address</th>\n",
       "      <th>famsize</th>\n",
       "      <th>Pstatus</th>\n",
       "      <th>Medu</th>\n",
       "      <th>Fedu</th>\n",
       "      <th>Mjob</th>\n",
       "      <th>Fjob</th>\n",
       "      <th>...</th>\n",
       "      <th>famrel</th>\n",
       "      <th>freetime</th>\n",
       "      <th>goout</th>\n",
       "      <th>Dalc</th>\n",
       "      <th>Walc</th>\n",
       "      <th>health</th>\n",
       "      <th>absences</th>\n",
       "      <th>G1</th>\n",
       "      <th>G2</th>\n",
       "      <th>G3</th>\n",
       "    </tr>\n",
       "  </thead>\n",
       "  <tbody>\n",
       "    <tr>\n",
       "      <th>0</th>\n",
       "      <td>GP</td>\n",
       "      <td>F</td>\n",
       "      <td>18</td>\n",
       "      <td>U</td>\n",
       "      <td>GT3</td>\n",
       "      <td>A</td>\n",
       "      <td>4</td>\n",
       "      <td>4</td>\n",
       "      <td>at_home</td>\n",
       "      <td>teacher</td>\n",
       "      <td>...</td>\n",
       "      <td>4</td>\n",
       "      <td>3</td>\n",
       "      <td>4</td>\n",
       "      <td>1</td>\n",
       "      <td>1</td>\n",
       "      <td>3</td>\n",
       "      <td>6</td>\n",
       "      <td>5</td>\n",
       "      <td>6</td>\n",
       "      <td>6</td>\n",
       "    </tr>\n",
       "    <tr>\n",
       "      <th>1</th>\n",
       "      <td>GP</td>\n",
       "      <td>F</td>\n",
       "      <td>17</td>\n",
       "      <td>U</td>\n",
       "      <td>GT3</td>\n",
       "      <td>T</td>\n",
       "      <td>1</td>\n",
       "      <td>1</td>\n",
       "      <td>at_home</td>\n",
       "      <td>other</td>\n",
       "      <td>...</td>\n",
       "      <td>5</td>\n",
       "      <td>3</td>\n",
       "      <td>3</td>\n",
       "      <td>1</td>\n",
       "      <td>1</td>\n",
       "      <td>3</td>\n",
       "      <td>4</td>\n",
       "      <td>5</td>\n",
       "      <td>5</td>\n",
       "      <td>6</td>\n",
       "    </tr>\n",
       "    <tr>\n",
       "      <th>2</th>\n",
       "      <td>GP</td>\n",
       "      <td>F</td>\n",
       "      <td>15</td>\n",
       "      <td>U</td>\n",
       "      <td>LE3</td>\n",
       "      <td>T</td>\n",
       "      <td>1</td>\n",
       "      <td>1</td>\n",
       "      <td>at_home</td>\n",
       "      <td>other</td>\n",
       "      <td>...</td>\n",
       "      <td>4</td>\n",
       "      <td>3</td>\n",
       "      <td>2</td>\n",
       "      <td>2</td>\n",
       "      <td>3</td>\n",
       "      <td>3</td>\n",
       "      <td>10</td>\n",
       "      <td>7</td>\n",
       "      <td>8</td>\n",
       "      <td>10</td>\n",
       "    </tr>\n",
       "    <tr>\n",
       "      <th>3</th>\n",
       "      <td>GP</td>\n",
       "      <td>F</td>\n",
       "      <td>15</td>\n",
       "      <td>U</td>\n",
       "      <td>GT3</td>\n",
       "      <td>T</td>\n",
       "      <td>4</td>\n",
       "      <td>2</td>\n",
       "      <td>health</td>\n",
       "      <td>services</td>\n",
       "      <td>...</td>\n",
       "      <td>3</td>\n",
       "      <td>2</td>\n",
       "      <td>2</td>\n",
       "      <td>1</td>\n",
       "      <td>1</td>\n",
       "      <td>5</td>\n",
       "      <td>2</td>\n",
       "      <td>15</td>\n",
       "      <td>14</td>\n",
       "      <td>15</td>\n",
       "    </tr>\n",
       "    <tr>\n",
       "      <th>4</th>\n",
       "      <td>GP</td>\n",
       "      <td>F</td>\n",
       "      <td>16</td>\n",
       "      <td>U</td>\n",
       "      <td>GT3</td>\n",
       "      <td>T</td>\n",
       "      <td>3</td>\n",
       "      <td>3</td>\n",
       "      <td>other</td>\n",
       "      <td>other</td>\n",
       "      <td>...</td>\n",
       "      <td>4</td>\n",
       "      <td>3</td>\n",
       "      <td>2</td>\n",
       "      <td>1</td>\n",
       "      <td>2</td>\n",
       "      <td>5</td>\n",
       "      <td>4</td>\n",
       "      <td>6</td>\n",
       "      <td>10</td>\n",
       "      <td>10</td>\n",
       "    </tr>\n",
       "  </tbody>\n",
       "</table>\n",
       "<p>5 rows × 33 columns</p>\n",
       "</div>"
      ],
      "text/plain": [
       "  school sex  age address famsize Pstatus  Medu  Fedu     Mjob      Fjob  ...  \\\n",
       "0     GP   F   18       U     GT3       A     4     4  at_home   teacher  ...   \n",
       "1     GP   F   17       U     GT3       T     1     1  at_home     other  ...   \n",
       "2     GP   F   15       U     LE3       T     1     1  at_home     other  ...   \n",
       "3     GP   F   15       U     GT3       T     4     2   health  services  ...   \n",
       "4     GP   F   16       U     GT3       T     3     3    other     other  ...   \n",
       "\n",
       "  famrel freetime  goout  Dalc  Walc health absences  G1  G2  G3  \n",
       "0      4        3      4     1     1      3        6   5   6   6  \n",
       "1      5        3      3     1     1      3        4   5   5   6  \n",
       "2      4        3      2     2     3      3       10   7   8  10  \n",
       "3      3        2      2     1     1      5        2  15  14  15  \n",
       "4      4        3      2     1     2      5        4   6  10  10  \n",
       "\n",
       "[5 rows x 33 columns]"
      ]
     },
     "execution_count": 40,
     "metadata": {},
     "output_type": "execute_result"
    }
   ],
   "source": [
    "student = pd.read_csv('student-mat.csv')\n",
    "student.head()"
   ]
  },
  {
   "cell_type": "code",
   "execution_count": 41,
   "metadata": {},
   "outputs": [
    {
     "data": {
      "text/html": [
       "<div>\n",
       "<style scoped>\n",
       "    .dataframe tbody tr th:only-of-type {\n",
       "        vertical-align: middle;\n",
       "    }\n",
       "\n",
       "    .dataframe tbody tr th {\n",
       "        vertical-align: top;\n",
       "    }\n",
       "\n",
       "    .dataframe thead th {\n",
       "        text-align: right;\n",
       "    }\n",
       "</style>\n",
       "<table border=\"1\" class=\"dataframe\">\n",
       "  <thead>\n",
       "    <tr style=\"text-align: right;\">\n",
       "      <th></th>\n",
       "      <th>age</th>\n",
       "      <th>Medu</th>\n",
       "      <th>Fedu</th>\n",
       "      <th>traveltime</th>\n",
       "      <th>studytime</th>\n",
       "      <th>failures</th>\n",
       "      <th>famrel</th>\n",
       "      <th>freetime</th>\n",
       "      <th>goout</th>\n",
       "      <th>Dalc</th>\n",
       "      <th>Walc</th>\n",
       "      <th>health</th>\n",
       "      <th>absences</th>\n",
       "      <th>G1</th>\n",
       "      <th>G2</th>\n",
       "      <th>G3</th>\n",
       "    </tr>\n",
       "  </thead>\n",
       "  <tbody>\n",
       "    <tr>\n",
       "      <th>count</th>\n",
       "      <td>395.00</td>\n",
       "      <td>395.00</td>\n",
       "      <td>395.00</td>\n",
       "      <td>395.00</td>\n",
       "      <td>395.00</td>\n",
       "      <td>395.00</td>\n",
       "      <td>395.00</td>\n",
       "      <td>395.00</td>\n",
       "      <td>395.00</td>\n",
       "      <td>395.00</td>\n",
       "      <td>395.00</td>\n",
       "      <td>395.00</td>\n",
       "      <td>395.00</td>\n",
       "      <td>395.00</td>\n",
       "      <td>395.00</td>\n",
       "      <td>395.00</td>\n",
       "    </tr>\n",
       "    <tr>\n",
       "      <th>mean</th>\n",
       "      <td>16.70</td>\n",
       "      <td>2.75</td>\n",
       "      <td>2.52</td>\n",
       "      <td>1.45</td>\n",
       "      <td>2.04</td>\n",
       "      <td>0.33</td>\n",
       "      <td>3.94</td>\n",
       "      <td>3.24</td>\n",
       "      <td>3.11</td>\n",
       "      <td>1.48</td>\n",
       "      <td>2.29</td>\n",
       "      <td>3.55</td>\n",
       "      <td>5.71</td>\n",
       "      <td>10.91</td>\n",
       "      <td>10.71</td>\n",
       "      <td>10.42</td>\n",
       "    </tr>\n",
       "    <tr>\n",
       "      <th>std</th>\n",
       "      <td>1.28</td>\n",
       "      <td>1.09</td>\n",
       "      <td>1.09</td>\n",
       "      <td>0.70</td>\n",
       "      <td>0.84</td>\n",
       "      <td>0.74</td>\n",
       "      <td>0.90</td>\n",
       "      <td>1.00</td>\n",
       "      <td>1.11</td>\n",
       "      <td>0.89</td>\n",
       "      <td>1.29</td>\n",
       "      <td>1.39</td>\n",
       "      <td>8.00</td>\n",
       "      <td>3.32</td>\n",
       "      <td>3.76</td>\n",
       "      <td>4.58</td>\n",
       "    </tr>\n",
       "    <tr>\n",
       "      <th>min</th>\n",
       "      <td>15.00</td>\n",
       "      <td>0.00</td>\n",
       "      <td>0.00</td>\n",
       "      <td>1.00</td>\n",
       "      <td>1.00</td>\n",
       "      <td>0.00</td>\n",
       "      <td>1.00</td>\n",
       "      <td>1.00</td>\n",
       "      <td>1.00</td>\n",
       "      <td>1.00</td>\n",
       "      <td>1.00</td>\n",
       "      <td>1.00</td>\n",
       "      <td>0.00</td>\n",
       "      <td>3.00</td>\n",
       "      <td>0.00</td>\n",
       "      <td>0.00</td>\n",
       "    </tr>\n",
       "    <tr>\n",
       "      <th>25%</th>\n",
       "      <td>16.00</td>\n",
       "      <td>2.00</td>\n",
       "      <td>2.00</td>\n",
       "      <td>1.00</td>\n",
       "      <td>1.00</td>\n",
       "      <td>0.00</td>\n",
       "      <td>4.00</td>\n",
       "      <td>3.00</td>\n",
       "      <td>2.00</td>\n",
       "      <td>1.00</td>\n",
       "      <td>1.00</td>\n",
       "      <td>3.00</td>\n",
       "      <td>0.00</td>\n",
       "      <td>8.00</td>\n",
       "      <td>9.00</td>\n",
       "      <td>8.00</td>\n",
       "    </tr>\n",
       "    <tr>\n",
       "      <th>50%</th>\n",
       "      <td>17.00</td>\n",
       "      <td>3.00</td>\n",
       "      <td>2.00</td>\n",
       "      <td>1.00</td>\n",
       "      <td>2.00</td>\n",
       "      <td>0.00</td>\n",
       "      <td>4.00</td>\n",
       "      <td>3.00</td>\n",
       "      <td>3.00</td>\n",
       "      <td>1.00</td>\n",
       "      <td>2.00</td>\n",
       "      <td>4.00</td>\n",
       "      <td>4.00</td>\n",
       "      <td>11.00</td>\n",
       "      <td>11.00</td>\n",
       "      <td>11.00</td>\n",
       "    </tr>\n",
       "    <tr>\n",
       "      <th>75%</th>\n",
       "      <td>18.00</td>\n",
       "      <td>4.00</td>\n",
       "      <td>3.00</td>\n",
       "      <td>2.00</td>\n",
       "      <td>2.00</td>\n",
       "      <td>0.00</td>\n",
       "      <td>5.00</td>\n",
       "      <td>4.00</td>\n",
       "      <td>4.00</td>\n",
       "      <td>2.00</td>\n",
       "      <td>3.00</td>\n",
       "      <td>5.00</td>\n",
       "      <td>8.00</td>\n",
       "      <td>13.00</td>\n",
       "      <td>13.00</td>\n",
       "      <td>14.00</td>\n",
       "    </tr>\n",
       "    <tr>\n",
       "      <th>max</th>\n",
       "      <td>22.00</td>\n",
       "      <td>4.00</td>\n",
       "      <td>4.00</td>\n",
       "      <td>4.00</td>\n",
       "      <td>4.00</td>\n",
       "      <td>3.00</td>\n",
       "      <td>5.00</td>\n",
       "      <td>5.00</td>\n",
       "      <td>5.00</td>\n",
       "      <td>5.00</td>\n",
       "      <td>5.00</td>\n",
       "      <td>5.00</td>\n",
       "      <td>75.00</td>\n",
       "      <td>19.00</td>\n",
       "      <td>19.00</td>\n",
       "      <td>20.00</td>\n",
       "    </tr>\n",
       "  </tbody>\n",
       "</table>\n",
       "</div>"
      ],
      "text/plain": [
       "         age   Medu   Fedu  traveltime  studytime  failures  famrel  freetime  \\\n",
       "count 395.00 395.00 395.00      395.00     395.00    395.00  395.00    395.00   \n",
       "mean   16.70   2.75   2.52        1.45       2.04      0.33    3.94      3.24   \n",
       "std     1.28   1.09   1.09        0.70       0.84      0.74    0.90      1.00   \n",
       "min    15.00   0.00   0.00        1.00       1.00      0.00    1.00      1.00   \n",
       "25%    16.00   2.00   2.00        1.00       1.00      0.00    4.00      3.00   \n",
       "50%    17.00   3.00   2.00        1.00       2.00      0.00    4.00      3.00   \n",
       "75%    18.00   4.00   3.00        2.00       2.00      0.00    5.00      4.00   \n",
       "max    22.00   4.00   4.00        4.00       4.00      3.00    5.00      5.00   \n",
       "\n",
       "       goout   Dalc   Walc  health  absences     G1     G2     G3  \n",
       "count 395.00 395.00 395.00  395.00    395.00 395.00 395.00 395.00  \n",
       "mean    3.11   1.48   2.29    3.55      5.71  10.91  10.71  10.42  \n",
       "std     1.11   0.89   1.29    1.39      8.00   3.32   3.76   4.58  \n",
       "min     1.00   1.00   1.00    1.00      0.00   3.00   0.00   0.00  \n",
       "25%     2.00   1.00   1.00    3.00      0.00   8.00   9.00   8.00  \n",
       "50%     3.00   1.00   2.00    4.00      4.00  11.00  11.00  11.00  \n",
       "75%     4.00   2.00   3.00    5.00      8.00  13.00  13.00  14.00  \n",
       "max     5.00   5.00   5.00    5.00     75.00  19.00  19.00  20.00  "
      ]
     },
     "execution_count": 41,
     "metadata": {},
     "output_type": "execute_result"
    }
   ],
   "source": [
    "pd.set_option('display.float', '{:.2f}'.format)\n",
    "student.describe()"
   ]
  },
  {
   "cell_type": "code",
   "execution_count": 42,
   "metadata": {},
   "outputs": [
    {
     "name": "stdout",
     "output_type": "stream",
     "text": [
      "school : ['GP' 'MS']\n",
      "====================================\n",
      "sex : ['F' 'M']\n",
      "====================================\n",
      "age : [3 2 0 1 4 7 5 6]\n",
      "====================================\n",
      "address : ['U' 'R']\n",
      "====================================\n",
      "famsize : ['GT3' 'LE3']\n",
      "====================================\n",
      "Pstatus : ['A' 'T']\n",
      "====================================\n",
      "Medu : [4 1 3 2 0]\n",
      "====================================\n",
      "Fedu : [4 1 2 3 0]\n",
      "====================================\n",
      "Mjob : ['at_home' 'health' 'other' 'services' 'teacher']\n",
      "====================================\n",
      "Fjob : ['teacher' 'other' 'services' 'health' 'at_home']\n",
      "====================================\n",
      "reason : ['course' 'other' 'home' 'reputation']\n",
      "====================================\n",
      "guardian : ['mother' 'father' 'other']\n",
      "====================================\n",
      "traveltime : [1 0 2 3]\n",
      "====================================\n",
      "studytime : [1 2 0 3]\n",
      "====================================\n",
      "failures : [0 3 2 1]\n",
      "====================================\n",
      "schoolsup : ['yes' 'no']\n",
      "====================================\n",
      "famsup : ['no' 'yes']\n",
      "====================================\n",
      "paid : ['no' 'yes']\n",
      "====================================\n",
      "activities : ['no' 'yes']\n",
      "====================================\n",
      "nursery : ['yes' 'no']\n",
      "====================================\n",
      "higher : ['yes' 'no']\n",
      "====================================\n",
      "internet : ['no' 'yes']\n",
      "====================================\n",
      "romantic : ['no' 'yes']\n",
      "====================================\n",
      "famrel : [3 4 2 0 1]\n",
      "====================================\n",
      "freetime : [2 1 3 0 4]\n",
      "====================================\n",
      "goout : [3 2 1 0 4]\n",
      "====================================\n",
      "Dalc : [0 1 4 2 3]\n",
      "====================================\n",
      "Walc : [0 2 1 3 4]\n",
      "====================================\n",
      "health : [2 4 0 1 3]\n",
      "====================================\n",
      "absences : [ 6  4 10  2  0 16 14  7  8 25 12 31 18 26 20 32 24 27  5 13 15 22  3 21\n",
      "  1 33 28 19  9 11 29 30 23 17]\n",
      "====================================\n",
      "G1 : [ 2  4 12  3  9 13 11  7 10  5  8  6 14 16 15  1  0]\n",
      "====================================\n",
      "G2 : [ 3  2  5 11  7 12  9 15 13 10  6  8  4 16 14  1  0]\n",
      "====================================\n",
      "G3 : [ 3  7 12  8 16  6  9 11 13  2  5 14 15 10 17  4  0  1]\n",
      "====================================\n"
     ]
    }
   ],
   "source": [
    "categorical_col = []\n",
    "for column in student.columns:\n",
    "    if student[column].dtype == object and len(student[column].unique()) <= 50:\n",
    "        categorical_col.append(column)\n",
    "        print(f\"{column} : {student[column].unique()}\")\n",
    "        print(\"====================================\")\n",
    "    else:\n",
    "        x=column\n",
    "        student[x] = student[x].astype(\"category\").cat.codes\n",
    "        print(f\"{column} : {student[column].unique()}\")\n",
    "        print(\"====================================\")"
   ]
  },
  {
   "cell_type": "markdown",
   "metadata": {},
   "source": [
    "###  Exploratory Data Analysis (EDA)"
   ]
  },
  {
   "cell_type": "code",
   "execution_count": 43,
   "metadata": {},
   "outputs": [],
   "source": [
    "columns_names=student.columns.to_list()"
   ]
  },
  {
   "cell_type": "code",
   "execution_count": 44,
   "metadata": {},
   "outputs": [
    {
     "data": {
      "image/png": "[encoded data removed]",
      "text/plain": [
       "<Figure size 2160x2160 with 1 Axes>"
      ]
     },
     "metadata": {},
     "output_type": "display_data"
    },
    {
     "data": {
      "image/png": "[encoded data removed]",
      "text/plain": [
       "<Figure size 432x288 with 1 Axes>"
      ]
     },
     "metadata": {},
     "output_type": "display_data"
    },
    {
     "data": {
      "image/png": "[encoded data removed]",
      "text/plain": [
       "<Figure size 432x288 with 1 Axes>"
      ]
     },
     "metadata": {},
     "output_type": "display_data"
    },
    {
     "data": {
      "image/png": "[encoded data removed]",
      "text/plain": [
       "<Figure size 432x288 with 1 Axes>"
      ]
     },
     "metadata": {},
     "output_type": "display_data"
    },
    {
     "data": {
      "image/png": "[encoded data removed]",
      "text/plain": [
       "<Figure size 432x288 with 1 Axes>"
      ]
     },
     "metadata": {},
     "output_type": "display_data"
    },
    {
     "data": {
      "image/png": "[encoded data removed]",
      "text/plain": [
       "<Figure size 432x288 with 1 Axes>"
      ]
     },
     "metadata": {},
     "output_type": "display_data"
    },
    {
     "data": {
      "image/png": "[encoded data removed]",
      "text/plain": [
       "<Figure size 432x288 with 1 Axes>"
      ]
     },
     "metadata": {},
     "output_type": "display_data"
    },
    {
     "data": {
      "image/png": "[encoded data removed]",
      "text/plain": [
       "<Figure size 432x288 with 1 Axes>"
      ]
     },
     "metadata": {},
     "output_type": "display_data"
    },
    {
     "data": {
      "image/png": "[encoded data removed]",
      "text/plain": [
       "<Figure size 432x288 with 1 Axes>"
      ]
     },
     "metadata": {},
     "output_type": "display_data"
    },
    {
     "data": {
      "image/png": "[encoded data removed]",
      "text/plain": [
       "<Figure size 432x288 with 1 Axes>"
      ]
     },
     "metadata": {},
     "output_type": "display_data"
    },
    {
     "data": {
      "image/png": "[encoded data removed]",
      "text/plain": [
       "<Figure size 432x288 with 1 Axes>"
      ]
     },
     "metadata": {},
     "output_type": "display_data"
    },
    {
     "data": {
      "image/png": "[encoded data removed]",
      "text/plain": [
       "<Figure size 432x288 with 1 Axes>"
      ]
     },
     "metadata": {},
     "output_type": "display_data"
    },
    {
     "data": {
      "image/png": "[encoded data removed]",
      "text/plain": [
       "<Figure size 432x288 with 1 Axes>"
      ]
     },
     "metadata": {},
     "output_type": "display_data"
    },
    {
     "data": {
      "image/png": "[encoded data removed]",
      "text/plain": [
       "<Figure size 432x288 with 1 Axes>"
      ]
     },
     "metadata": {},
     "output_type": "display_data"
    },
    {
     "data": {
      "image/png": "[encoded data removed]",
      "text/plain": [
       "<Figure size 432x288 with 1 Axes>"
      ]
     },
     "metadata": {},
     "output_type": "display_data"
    },
    {
     "data": {
      "image/png": "[encoded data removed]",
      "text/plain": [
       "<Figure size 432x288 with 1 Axes>"
      ]
     },
     "metadata": {},
     "output_type": "display_data"
    },
    {
     "data": {
      "image/png": "[encoded data removed]",
      "text/plain": [
       "<Figure size 432x288 with 1 Axes>"
      ]
     },
     "metadata": {},
     "output_type": "display_data"
    },
    {
     "data": {
      "image/png": "[encoded data removed]",
      "text/plain": [
       "<Figure size 432x288 with 1 Axes>"
      ]
     },
     "metadata": {},
     "output_type": "display_data"
    },
    {
     "data": {
      "image/png": "[encoded data removed]",
      "text/plain": [
       "<Figure size 432x288 with 1 Axes>"
      ]
     },
     "metadata": {},
     "output_type": "display_data"
    },
    {
     "data": {
      "image/png": "[encoded data removed]",
      "text/plain": [
       "<Figure size 432x288 with 1 Axes>"
      ]
     },
     "metadata": {},
     "output_type": "display_data"
    },
    {
     "data": {
      "image/png": "[encoded data removed]",
      "text/plain": [
       "<Figure size 432x288 with 1 Axes>"
      ]
     },
     "metadata": {},
     "output_type": "display_data"
    },
    {
     "data": {
      "image/png": "[encoded data removed]",
      "text/plain": [
       "<Figure size 432x288 with 1 Axes>"
      ]
     },
     "metadata": {},
     "output_type": "display_data"
    },
    {
     "data": {
      "image/png": "[encoded data removed]",
      "text/plain": [
       "<Figure size 432x288 with 1 Axes>"
      ]
     },
     "metadata": {},
     "output_type": "display_data"
    },
    {
     "data": {
      "image/png": "[encoded data removed]",
      "text/plain": [
       "<Figure size 432x288 with 1 Axes>"
      ]
     },
     "metadata": {},
     "output_type": "display_data"
    },
    {
     "data": {
      "image/png": "[encoded data removed]",
      "text/plain": [
       "<Figure size 432x288 with 1 Axes>"
      ]
     },
     "metadata": {},
     "output_type": "display_data"
    },
    {
     "data": {
      "image/png": "[encoded data removed]",
      "text/plain": [
       "<Figure size 432x288 with 1 Axes>"
      ]
     },
     "metadata": {},
     "output_type": "display_data"
    },
    {
     "data": {
      "image/png": "[encoded data removed]",
      "text/plain": [
       "<Figure size 432x288 with 1 Axes>"
      ]
     },
     "metadata": {},
     "output_type": "display_data"
    },
    {
     "data": {
      "image/png": "[encoded data removed]",
      "text/plain": [
       "<Figure size 432x288 with 1 Axes>"
      ]
     },
     "metadata": {},
     "output_type": "display_data"
    },
    {
     "data": {
      "image/png": "[encoded data removed]",
      "text/plain": [
       "<Figure size 432x288 with 1 Axes>"
      ]
     },
     "metadata": {},
     "output_type": "display_data"
    },
    {
     "data": {
      "image/png": "[encoded data removed]",
      "text/plain": [
       "<Figure size 432x288 with 1 Axes>"
      ]
     },
     "metadata": {},
     "output_type": "display_data"
    },
    {
     "data": {
      "image/png": "[encoded data removed]",
      "text/plain": [
       "<Figure size 432x288 with 1 Axes>"
      ]
     },
     "metadata": {},
     "output_type": "display_data"
    },
    {
     "data": {
      "image/png": "[encoded data removed]",
      "text/plain": [
       "<Figure size 432x288 with 1 Axes>"
      ]
     },
     "metadata": {},
     "output_type": "display_data"
    },
    {
     "data": {
      "image/png": "[encoded data removed]",
      "text/plain": [
       "<Figure size 432x288 with 1 Axes>"
      ]
     },
     "metadata": {},
     "output_type": "display_data"
    }
   ],
   "source": [
    "sns.set(font_scale=1.2)\n",
    "plt.figure(figsize=(30, 30))\n",
    "\n",
    "for i in range(0,len(columns_names)):\n",
    "    \n",
    "    #sns.scatterplot(columns_names[i], columns_names[j], data=student)\n",
    "\n",
    "    g = sns.scatterplot(columns_names[i], 'G3', data=student,hue='G3')\n",
    "    g.set_xticklabels(g.get_xticklabels(), rotation=90)\n",
    "    plt.ylabel(columns_names[i])\n",
    "    plt.xlabel(columns_names[j])\n",
    "    plt.show()"
   ]
  },
  {
   "cell_type": "markdown",
   "metadata": {},
   "source": [
    "### DATA PRE-PROCESSING"
   ]
  },
  {
   "cell_type": "code",
   "execution_count": 61,
   "metadata": {},
   "outputs": [
    {
     "data": {
      "text/plain": [
       "school        False\n",
       "sex           False\n",
       "age           False\n",
       "address       False\n",
       "famsize       False\n",
       "Pstatus       False\n",
       "Medu          False\n",
       "Fedu          False\n",
       "Mjob          False\n",
       "Fjob          False\n",
       "reason        False\n",
       "guardian      False\n",
       "traveltime    False\n",
       "studytime     False\n",
       "failures      False\n",
       "schoolsup     False\n",
       "famsup        False\n",
       "paid          False\n",
       "activities    False\n",
       "nursery       False\n",
       "higher        False\n",
       "internet      False\n",
       "romantic      False\n",
       "famrel        False\n",
       "freetime      False\n",
       "goout         False\n",
       "Dalc          False\n",
       "Walc          False\n",
       "health        False\n",
       "absences      False\n",
       "G1            False\n",
       "G2            False\n",
       "G3            False\n",
       "dtype: bool"
      ]
     },
     "execution_count": 61,
     "metadata": {},
     "output_type": "execute_result"
    }
   ],
   "source": [
    "student.isnull().any()"
   ]
  },
  {
   "cell_type": "code",
   "execution_count": 62,
   "metadata": {},
   "outputs": [
    {
     "data": {
      "text/plain": [
       "failures     -0.36\n",
       "age          -0.16\n",
       "goout        -0.15\n",
       "traveltime   -0.12\n",
       "Walc         -0.08\n",
       "Dalc         -0.07\n",
       "health       -0.07\n",
       "absences      0.00\n",
       "freetime      0.01\n",
       "famrel        0.05\n",
       "studytime     0.11\n",
       "Fedu          0.16\n",
       "Medu          0.22\n",
       "G1            0.85\n",
       "G2            0.94\n",
       "G3            1.00\n",
       "Name: G3, dtype: float64"
      ]
     },
     "execution_count": 62,
     "metadata": {},
     "output_type": "execute_result"
    }
   ],
   "source": [
    "student.corr()['G3'].sort_values()"
   ]
  },
  {
   "cell_type": "code",
   "execution_count": 63,
   "metadata": {},
   "outputs": [
    {
     "data": {
      "text/plain": [
       "higher_no           -0.18\n",
       "romantic_yes        -0.12\n",
       "schoolsup_yes       -0.12\n",
       "Mjob_at_home        -0.12\n",
       "address_R           -0.12\n",
       "Mjob_other          -0.11\n",
       "sex_F               -0.11\n",
       "internet_no         -0.11\n",
       "reason_course       -0.09\n",
       "guardian_other      -0.09\n",
       "paid_no             -0.08\n",
       "famsize_GT3         -0.08\n",
       "Fjob_other          -0.06\n",
       "Pstatus_T           -0.05\n",
       "school_MS           -0.05\n",
       "nursery_no          -0.05\n",
       "famsup_yes          -0.05\n",
       "activities_no       -0.02\n",
       "reason_home         -0.02\n",
       "Fjob_services       -0.02\n",
       "Fjob_at_home        -0.01\n",
       "guardian_mother      0.02\n",
       "activities_yes       0.02\n",
       "guardian_father      0.03\n",
       "reason_other         0.04\n",
       "famsup_no            0.05\n",
       "nursery_yes          0.05\n",
       "Fjob_health          0.05\n",
       "school_GP            0.05\n",
       "Pstatus_A            0.05\n",
       "Mjob_teacher         0.06\n",
       "famsize_LE3          0.08\n",
       "paid_yes             0.08\n",
       "Mjob_services        0.09\n",
       "reason_reputation    0.09\n",
       "internet_yes         0.11\n",
       "sex_M                0.11\n",
       "Fjob_teacher         0.11\n",
       "address_U            0.12\n",
       "schoolsup_no         0.12\n",
       "romantic_no          0.12\n",
       "Mjob_health          0.13\n",
       "higher_yes           0.18\n",
       "G3                   1.00\n",
       "Name: G3, dtype: float64"
      ]
     },
     "execution_count": 63,
     "metadata": {},
     "output_type": "execute_result"
    }
   ],
   "source": [
    "# Select only categorical variables\n",
    "category_df = student.select_dtypes(include=['object'])\n",
    "\n",
    "# One hot encode the variables\n",
    "dummy_df = pd.get_dummies(category_df)\n",
    "\n",
    "# Put the grade back in the dataframe\n",
    "dummy_df['G3'] = student['G3']\n",
    "\n",
    "# Find correlations with grade\n",
    "dummy_df.corr()['G3'].sort_values()"
   ]
  },
  {
   "cell_type": "code",
   "execution_count": 64,
   "metadata": {},
   "outputs": [],
   "source": [
    "# selecting the most correlated values and dropping the others\n",
    "labels = student['G3']\n",
    "\n",
    "# drop the school and grade columns\n",
    "student = student.drop(['school', 'G1', 'G2'], axis='columns')\n",
    "    \n",
    "# One-Hot Encoding of Categorical Variables\n",
    "student = pd.get_dummies(student)\n"
   ]
  },
  {
   "cell_type": "code",
   "execution_count": 66,
   "metadata": {},
   "outputs": [
    {
     "data": {
      "text/html": [
       "<div>\n",
       "<style scoped>\n",
       "    .dataframe tbody tr th:only-of-type {\n",
       "        vertical-align: middle;\n",
       "    }\n",
       "\n",
       "    .dataframe tbody tr th {\n",
       "        vertical-align: top;\n",
       "    }\n",
       "\n",
       "    .dataframe thead th {\n",
       "        text-align: right;\n",
       "    }\n",
       "</style>\n",
       "<table border=\"1\" class=\"dataframe\">\n",
       "  <thead>\n",
       "    <tr style=\"text-align: right;\">\n",
       "      <th></th>\n",
       "      <th>G3</th>\n",
       "      <th>failures</th>\n",
       "      <th>Medu</th>\n",
       "      <th>higher_yes</th>\n",
       "      <th>higher_no</th>\n",
       "      <th>age</th>\n",
       "      <th>Fedu</th>\n",
       "      <th>goout</th>\n",
       "      <th>Mjob_health</th>\n",
       "    </tr>\n",
       "  </thead>\n",
       "  <tbody>\n",
       "    <tr>\n",
       "      <th>0</th>\n",
       "      <td>3</td>\n",
       "      <td>0</td>\n",
       "      <td>4</td>\n",
       "      <td>1</td>\n",
       "      <td>0</td>\n",
       "      <td>3</td>\n",
       "      <td>4</td>\n",
       "      <td>3</td>\n",
       "      <td>0</td>\n",
       "    </tr>\n",
       "    <tr>\n",
       "      <th>1</th>\n",
       "      <td>3</td>\n",
       "      <td>0</td>\n",
       "      <td>1</td>\n",
       "      <td>1</td>\n",
       "      <td>0</td>\n",
       "      <td>2</td>\n",
       "      <td>1</td>\n",
       "      <td>2</td>\n",
       "      <td>0</td>\n",
       "    </tr>\n",
       "    <tr>\n",
       "      <th>2</th>\n",
       "      <td>7</td>\n",
       "      <td>3</td>\n",
       "      <td>1</td>\n",
       "      <td>1</td>\n",
       "      <td>0</td>\n",
       "      <td>0</td>\n",
       "      <td>1</td>\n",
       "      <td>1</td>\n",
       "      <td>0</td>\n",
       "    </tr>\n",
       "    <tr>\n",
       "      <th>3</th>\n",
       "      <td>12</td>\n",
       "      <td>0</td>\n",
       "      <td>4</td>\n",
       "      <td>1</td>\n",
       "      <td>0</td>\n",
       "      <td>0</td>\n",
       "      <td>2</td>\n",
       "      <td>1</td>\n",
       "      <td>1</td>\n",
       "    </tr>\n",
       "    <tr>\n",
       "      <th>4</th>\n",
       "      <td>7</td>\n",
       "      <td>0</td>\n",
       "      <td>3</td>\n",
       "      <td>1</td>\n",
       "      <td>0</td>\n",
       "      <td>1</td>\n",
       "      <td>3</td>\n",
       "      <td>1</td>\n",
       "      <td>0</td>\n",
       "    </tr>\n",
       "  </tbody>\n",
       "</table>\n",
       "</div>"
      ],
      "text/plain": [
       "   G3  failures  Medu  higher_yes  higher_no  age  Fedu  goout  Mjob_health\n",
       "0   3         0     4           1          0    3     4      3            0\n",
       "1   3         0     1           1          0    2     1      2            0\n",
       "2   7         3     1           1          0    0     1      1            0\n",
       "3  12         0     4           1          0    0     2      1            1\n",
       "4   7         0     3           1          0    1     3      1            0"
      ]
     },
     "execution_count": 66,
     "metadata": {},
     "output_type": "execute_result"
    }
   ],
   "source": [
    "# Find correlations with the Grade\n",
    "most_correlated = student.corr().abs()['G3'].sort_values(ascending=False)\n",
    "\n",
    "# Maintain the top 8 most correlation features with Grade\n",
    "most_correlated = most_correlated[:9]\n",
    "most_correlated\n",
    "\n",
    "student = student.loc[:, most_correlated.index]\n",
    "student.head()"
   ]
  },
  {
   "cell_type": "code",
   "execution_count": null,
   "metadata": {},
   "outputs": [],
   "source": []
  },
  {
   "cell_type": "markdown",
   "metadata": {},
   "source": [
    "### K Means Cluster Creation"
   ]
  },
  {
   "cell_type": "code",
   "execution_count": 67,
   "metadata": {},
   "outputs": [],
   "source": [
    "from sklearn.cluster import KMeans"
   ]
  },
  {
   "cell_type": "code",
   "execution_count": 68,
   "metadata": {},
   "outputs": [],
   "source": [
    "student['G3'] = student.G3.astype(\"category\").cat.codes"
   ]
  },
  {
   "cell_type": "code",
   "execution_count": 69,
   "metadata": {},
   "outputs": [],
   "source": [
    "number_of_clusters=student.G3.to_list()"
   ]
  },
  {
   "cell_type": "code",
   "execution_count": 70,
   "metadata": {},
   "outputs": [],
   "source": [
    "number_of_clusters=len(set(number_of_clusters))"
   ]
  },
  {
   "cell_type": "code",
   "execution_count": 71,
   "metadata": {},
   "outputs": [
    {
     "data": {
      "text/plain": [
       "18"
      ]
     },
     "execution_count": 71,
     "metadata": {},
     "output_type": "execute_result"
    }
   ],
   "source": [
    "number_of_clusters"
   ]
  },
  {
   "cell_type": "code",
   "execution_count": 76,
   "metadata": {},
   "outputs": [
    {
     "data": {
      "text/html": [
       "<div>\n",
       "<style scoped>\n",
       "    .dataframe tbody tr th:only-of-type {\n",
       "        vertical-align: middle;\n",
       "    }\n",
       "\n",
       "    .dataframe tbody tr th {\n",
       "        vertical-align: top;\n",
       "    }\n",
       "\n",
       "    .dataframe thead th {\n",
       "        text-align: right;\n",
       "    }\n",
       "</style>\n",
       "<table border=\"1\" class=\"dataframe\">\n",
       "  <thead>\n",
       "    <tr style=\"text-align: right;\">\n",
       "      <th></th>\n",
       "      <th>G3</th>\n",
       "      <th>failures</th>\n",
       "      <th>Medu</th>\n",
       "      <th>higher_yes</th>\n",
       "      <th>higher_no</th>\n",
       "      <th>age</th>\n",
       "      <th>Fedu</th>\n",
       "      <th>goout</th>\n",
       "      <th>Mjob_health</th>\n",
       "    </tr>\n",
       "  </thead>\n",
       "  <tbody>\n",
       "    <tr>\n",
       "      <th>0</th>\n",
       "      <td>3</td>\n",
       "      <td>0</td>\n",
       "      <td>4</td>\n",
       "      <td>1</td>\n",
       "      <td>0</td>\n",
       "      <td>3</td>\n",
       "      <td>4</td>\n",
       "      <td>3</td>\n",
       "      <td>0</td>\n",
       "    </tr>\n",
       "    <tr>\n",
       "      <th>1</th>\n",
       "      <td>3</td>\n",
       "      <td>0</td>\n",
       "      <td>1</td>\n",
       "      <td>1</td>\n",
       "      <td>0</td>\n",
       "      <td>2</td>\n",
       "      <td>1</td>\n",
       "      <td>2</td>\n",
       "      <td>0</td>\n",
       "    </tr>\n",
       "    <tr>\n",
       "      <th>2</th>\n",
       "      <td>7</td>\n",
       "      <td>3</td>\n",
       "      <td>1</td>\n",
       "      <td>1</td>\n",
       "      <td>0</td>\n",
       "      <td>0</td>\n",
       "      <td>1</td>\n",
       "      <td>1</td>\n",
       "      <td>0</td>\n",
       "    </tr>\n",
       "    <tr>\n",
       "      <th>3</th>\n",
       "      <td>12</td>\n",
       "      <td>0</td>\n",
       "      <td>4</td>\n",
       "      <td>1</td>\n",
       "      <td>0</td>\n",
       "      <td>0</td>\n",
       "      <td>2</td>\n",
       "      <td>1</td>\n",
       "      <td>1</td>\n",
       "    </tr>\n",
       "    <tr>\n",
       "      <th>4</th>\n",
       "      <td>7</td>\n",
       "      <td>0</td>\n",
       "      <td>3</td>\n",
       "      <td>1</td>\n",
       "      <td>0</td>\n",
       "      <td>1</td>\n",
       "      <td>3</td>\n",
       "      <td>1</td>\n",
       "      <td>0</td>\n",
       "    </tr>\n",
       "    <tr>\n",
       "      <th>...</th>\n",
       "      <td>...</td>\n",
       "      <td>...</td>\n",
       "      <td>...</td>\n",
       "      <td>...</td>\n",
       "      <td>...</td>\n",
       "      <td>...</td>\n",
       "      <td>...</td>\n",
       "      <td>...</td>\n",
       "      <td>...</td>\n",
       "    </tr>\n",
       "    <tr>\n",
       "      <th>390</th>\n",
       "      <td>6</td>\n",
       "      <td>2</td>\n",
       "      <td>2</td>\n",
       "      <td>1</td>\n",
       "      <td>0</td>\n",
       "      <td>5</td>\n",
       "      <td>2</td>\n",
       "      <td>3</td>\n",
       "      <td>0</td>\n",
       "    </tr>\n",
       "    <tr>\n",
       "      <th>391</th>\n",
       "      <td>13</td>\n",
       "      <td>0</td>\n",
       "      <td>3</td>\n",
       "      <td>1</td>\n",
       "      <td>0</td>\n",
       "      <td>2</td>\n",
       "      <td>1</td>\n",
       "      <td>4</td>\n",
       "      <td>0</td>\n",
       "    </tr>\n",
       "    <tr>\n",
       "      <th>392</th>\n",
       "      <td>4</td>\n",
       "      <td>3</td>\n",
       "      <td>1</td>\n",
       "      <td>1</td>\n",
       "      <td>0</td>\n",
       "      <td>6</td>\n",
       "      <td>1</td>\n",
       "      <td>2</td>\n",
       "      <td>0</td>\n",
       "    </tr>\n",
       "    <tr>\n",
       "      <th>393</th>\n",
       "      <td>7</td>\n",
       "      <td>0</td>\n",
       "      <td>3</td>\n",
       "      <td>1</td>\n",
       "      <td>0</td>\n",
       "      <td>3</td>\n",
       "      <td>2</td>\n",
       "      <td>0</td>\n",
       "      <td>0</td>\n",
       "    </tr>\n",
       "    <tr>\n",
       "      <th>394</th>\n",
       "      <td>6</td>\n",
       "      <td>0</td>\n",
       "      <td>1</td>\n",
       "      <td>1</td>\n",
       "      <td>0</td>\n",
       "      <td>4</td>\n",
       "      <td>1</td>\n",
       "      <td>2</td>\n",
       "      <td>0</td>\n",
       "    </tr>\n",
       "  </tbody>\n",
       "</table>\n",
       "<p>395 rows × 9 columns</p>\n",
       "</div>"
      ],
      "text/plain": [
       "     G3  failures  Medu  higher_yes  higher_no  age  Fedu  goout  Mjob_health\n",
       "0     3         0     4           1          0    3     4      3            0\n",
       "1     3         0     1           1          0    2     1      2            0\n",
       "2     7         3     1           1          0    0     1      1            0\n",
       "3    12         0     4           1          0    0     2      1            1\n",
       "4     7         0     3           1          0    1     3      1            0\n",
       "..   ..       ...   ...         ...        ...  ...   ...    ...          ...\n",
       "390   6         2     2           1          0    5     2      3            0\n",
       "391  13         0     3           1          0    2     1      4            0\n",
       "392   4         3     1           1          0    6     1      2            0\n",
       "393   7         0     3           1          0    3     2      0            0\n",
       "394   6         0     1           1          0    4     1      2            0\n",
       "\n",
       "[395 rows x 9 columns]"
      ]
     },
     "execution_count": 76,
     "metadata": {},
     "output_type": "execute_result"
    }
   ],
   "source": [
    "kmeans = KMeans(number_of_clusters)\n",
    "student"
   ]
  },
  {
   "cell_type": "code",
   "execution_count": 77,
   "metadata": {},
   "outputs": [
    {
     "data": {
      "text/plain": [
       "KMeans(algorithm='auto', copy_x=True, init='k-means++', max_iter=300,\n",
       "       n_clusters=18, n_init=10, n_jobs=None, precompute_distances='auto',\n",
       "       random_state=None, tol=0.0001, verbose=0)"
      ]
     },
     "execution_count": 77,
     "metadata": {},
     "output_type": "execute_result"
    }
   ],
   "source": [
    "kmeans.fit(student.drop('G3', axis=1))"
   ]
  },
  {
   "cell_type": "code",
   "execution_count": 78,
   "metadata": {},
   "outputs": [
    {
     "data": {
      "text/plain": [
       "array([[ 1.60000000e+00,  2.20000000e+00,  7.00000000e-01,\n",
       "         3.00000000e-01,  1.30000000e+00,  1.90000000e+00,\n",
       "         6.00000000e-01,  0.00000000e+00],\n",
       "       [ 0.00000000e+00,  3.65517241e+00,  1.00000000e+00,\n",
       "        -3.46944695e-17,  6.89655172e-01,  1.89655172e+00,\n",
       "         1.75862069e+00,  1.72413793e-01],\n",
       "       [ 4.00000000e-01,  1.40000000e+00,  8.00000000e-01,\n",
       "         2.00000000e-01,  2.90000000e+00,  3.10000000e+00,\n",
       "         2.60000000e+00,  0.00000000e+00],\n",
       "       [ 1.66666667e-01,  3.66666667e+00,  1.00000000e+00,\n",
       "        -3.46944695e-17,  2.66666667e+00,  3.46666667e+00,\n",
       "         3.40000000e+00,  2.00000000e-01],\n",
       "       [ 3.12500000e-02,  2.50000000e+00,  1.00000000e+00,\n",
       "        -3.46944695e-17,  1.28125000e+00,  3.25000000e+00,\n",
       "         1.56250000e+00,  6.25000000e-02],\n",
       "       [ 1.20000000e+00,  2.40000000e+00,  0.00000000e+00,\n",
       "         1.00000000e+00,  3.20000000e+00,  1.60000000e+00,\n",
       "         3.60000000e+00,  0.00000000e+00],\n",
       "       [ 3.60000000e-01,  1.16000000e+00,  8.80000000e-01,\n",
       "         1.20000000e-01,  3.08000000e+00,  1.12000000e+00,\n",
       "         1.60000000e+00,  0.00000000e+00],\n",
       "       [ 5.00000000e-02,  3.77500000e+00,  9.75000000e-01,\n",
       "         2.50000000e-02,  2.25000000e-01,  3.67500000e+00,\n",
       "         1.27500000e+00,  1.25000000e-01],\n",
       "       [ 1.00000000e-01,  3.90000000e+00,  1.00000000e+00,\n",
       "        -3.46944695e-17,  1.86666667e+00,  3.90000000e+00,\n",
       "         2.40000000e+00,  2.00000000e-01],\n",
       "       [ 9.37500000e-02,  1.56250000e+00,  1.00000000e+00,\n",
       "        -3.46944695e-17,  4.68750000e-01,  1.59375000e+00,\n",
       "         1.28125000e+00,  6.25000000e-02],\n",
       "       [ 0.00000000e+00,  3.76190476e+00,  9.52380952e-01,\n",
       "         4.76190476e-02,  2.76190476e+00,  3.14285714e+00,\n",
       "         9.04761905e-01,  4.76190476e-02],\n",
       "       [ 1.78571429e-01,  1.67857143e+00,  9.64285714e-01,\n",
       "         3.57142857e-02,  1.28571429e+00,  1.64285714e+00,\n",
       "         3.32142857e+00,  3.57142857e-02],\n",
       "       [ 3.00000000e+00,  1.14285714e+00,  4.28571429e-01,\n",
       "         5.71428571e-01,  4.14285714e+00,  1.00000000e+00,\n",
       "         3.14285714e+00,  0.00000000e+00],\n",
       "       [ 2.80000000e-01,  3.56000000e+00,  1.00000000e+00,\n",
       "        -2.77555756e-17,  5.20000000e-01,  3.36000000e+00,\n",
       "         3.64000000e+00,  1.20000000e-01],\n",
       "       [ 1.20000000e+00,  2.86666667e+00,  1.00000000e+00,\n",
       "        -2.08166817e-17,  4.00000000e+00,  2.40000000e+00,\n",
       "         2.00000000e+00,  6.66666667e-02],\n",
       "       [ 2.94117647e-01,  2.64705882e+00,  1.00000000e+00,\n",
       "        -2.08166817e-17,  2.64705882e+00,  1.41176471e+00,\n",
       "         3.11764706e+00,  0.00000000e+00],\n",
       "       [ 2.70000000e+00,  2.10000000e+00,  1.00000000e+00,\n",
       "        -6.93889390e-18,  7.00000000e-01,  1.60000000e+00,\n",
       "         2.80000000e+00,  1.00000000e-01],\n",
       "       [ 0.00000000e+00,  2.17241379e+00,  1.00000000e+00,\n",
       "        -3.46944695e-17,  2.27586207e+00,  1.82758621e+00,\n",
       "         1.37931034e+00,  3.44827586e-02]])"
      ]
     },
     "execution_count": 78,
     "metadata": {},
     "output_type": "execute_result"
    }
   ],
   "source": [
    "kmeans.cluster_centers_"
   ]
  },
  {
   "cell_type": "code",
   "execution_count": 79,
   "metadata": {},
   "outputs": [],
   "source": [
    "student['G3'] = student.G3.astype(\"category\").cat.codes"
   ]
  },
  {
   "cell_type": "code",
   "execution_count": 80,
   "metadata": {},
   "outputs": [
    {
     "data": {
      "text/plain": [
       "0       3\n",
       "1       3\n",
       "2       7\n",
       "3      12\n",
       "4       7\n",
       "       ..\n",
       "390     6\n",
       "391    13\n",
       "392     4\n",
       "393     7\n",
       "394     6\n",
       "Name: G3, Length: 395, dtype: int8"
      ]
     },
     "execution_count": 80,
     "metadata": {},
     "output_type": "execute_result"
    }
   ],
   "source": [
    "student.G3"
   ]
  },
  {
   "cell_type": "code",
   "execution_count": 82,
   "metadata": {},
   "outputs": [
    {
     "data": {
      "text/html": [
       "<div>\n",
       "<style scoped>\n",
       "    .dataframe tbody tr th:only-of-type {\n",
       "        vertical-align: middle;\n",
       "    }\n",
       "\n",
       "    .dataframe tbody tr th {\n",
       "        vertical-align: top;\n",
       "    }\n",
       "\n",
       "    .dataframe thead th {\n",
       "        text-align: right;\n",
       "    }\n",
       "</style>\n",
       "<table border=\"1\" class=\"dataframe\">\n",
       "  <thead>\n",
       "    <tr style=\"text-align: right;\">\n",
       "      <th></th>\n",
       "      <th>G3</th>\n",
       "      <th>failures</th>\n",
       "      <th>Medu</th>\n",
       "      <th>higher_yes</th>\n",
       "      <th>higher_no</th>\n",
       "      <th>age</th>\n",
       "      <th>Fedu</th>\n",
       "      <th>goout</th>\n",
       "      <th>Mjob_health</th>\n",
       "    </tr>\n",
       "  </thead>\n",
       "  <tbody>\n",
       "    <tr>\n",
       "      <th>0</th>\n",
       "      <td>3</td>\n",
       "      <td>0</td>\n",
       "      <td>4</td>\n",
       "      <td>1</td>\n",
       "      <td>0</td>\n",
       "      <td>3</td>\n",
       "      <td>4</td>\n",
       "      <td>3</td>\n",
       "      <td>0</td>\n",
       "    </tr>\n",
       "    <tr>\n",
       "      <th>1</th>\n",
       "      <td>3</td>\n",
       "      <td>0</td>\n",
       "      <td>1</td>\n",
       "      <td>1</td>\n",
       "      <td>0</td>\n",
       "      <td>2</td>\n",
       "      <td>1</td>\n",
       "      <td>2</td>\n",
       "      <td>0</td>\n",
       "    </tr>\n",
       "    <tr>\n",
       "      <th>2</th>\n",
       "      <td>7</td>\n",
       "      <td>3</td>\n",
       "      <td>1</td>\n",
       "      <td>1</td>\n",
       "      <td>0</td>\n",
       "      <td>0</td>\n",
       "      <td>1</td>\n",
       "      <td>1</td>\n",
       "      <td>0</td>\n",
       "    </tr>\n",
       "    <tr>\n",
       "      <th>3</th>\n",
       "      <td>12</td>\n",
       "      <td>0</td>\n",
       "      <td>4</td>\n",
       "      <td>1</td>\n",
       "      <td>0</td>\n",
       "      <td>0</td>\n",
       "      <td>2</td>\n",
       "      <td>1</td>\n",
       "      <td>1</td>\n",
       "    </tr>\n",
       "    <tr>\n",
       "      <th>4</th>\n",
       "      <td>7</td>\n",
       "      <td>0</td>\n",
       "      <td>3</td>\n",
       "      <td>1</td>\n",
       "      <td>0</td>\n",
       "      <td>1</td>\n",
       "      <td>3</td>\n",
       "      <td>1</td>\n",
       "      <td>0</td>\n",
       "    </tr>\n",
       "  </tbody>\n",
       "</table>\n",
       "</div>"
      ],
      "text/plain": [
       "   G3  failures  Medu  higher_yes  higher_no  age  Fedu  goout  Mjob_health\n",
       "0   3         0     4           1          0    3     4      3            0\n",
       "1   3         0     1           1          0    2     1      2            0\n",
       "2   7         3     1           1          0    0     1      1            0\n",
       "3  12         0     4           1          0    0     2      1            1\n",
       "4   7         0     3           1          0    1     3      1            0"
      ]
     },
     "execution_count": 82,
     "metadata": {},
     "output_type": "execute_result"
    }
   ],
   "source": [
    "student.head()"
   ]
  },
  {
   "cell_type": "code",
   "execution_count": 83,
   "metadata": {},
   "outputs": [
    {
     "data": {
      "text/plain": [
       "array([ 3,  6, 16,  1,  4,  7, 11,  8,  1,  7,  7,  9,  7,  7,  9,  8,  8,\n",
       "        4, 16,  1,  7,  7,  1, 11,  4,  0,  9,  1,  4, 13,  7,  7,  7,  7,\n",
       "        1,  9,  7,  8,  7,  9,  9,  7,  7,  9,  9,  7, 13,  7,  1, 13,  9,\n",
       "        1, 13, 13, 13, 11,  7,  7,  9,  1,  8, 11,  9, 13, 13,  1,  7,  1,\n",
       "        9,  1,  1,  1, 16,  1,  4,  7,  1,  9,  0,  4,  4,  4,  1,  9,  9,\n",
       "       13, 11,  1,  0,  8,  4, 13,  1,  1, 11,  9,  1, 11,  8, 13, 13,  8,\n",
       "        7, 13, 13,  7,  9,  4, 13, 13,  7,  4,  0,  1,  9,  8,  7,  4,  2,\n",
       "        7,  9, 11,  4,  8, 11, 13,  7, 12, 14, 13,  7,  9, 11,  7,  7,  7,\n",
       "        3,  0, 11,  7,  7, 16,  7, 11, 16,  9, 16,  9,  7, 16, 12, 11,  0,\n",
       "        5, 10, 13, 17, 12,  9, 13,  0, 16, 11,  2, 12,  0, 11,  1, 11,  7,\n",
       "       13,  9,  8, 16, 13,  3, 11,  3,  1,  8,  1,  4,  4,  4,  1,  3,  9,\n",
       "        9,  4, 17,  4,  6, 11,  4,  4,  4,  8, 13,  8,  7, 13,  4, 11, 17,\n",
       "       11,  8, 16,  7,  9, 10, 14,  3, 11, 15, 10, 15,  3,  3,  4, 17, 11,\n",
       "       11,  4, 17,  7, 15, 15,  4,  6, 17,  8, 17,  3,  8,  9,  1, 17,  9,\n",
       "       17,  5,  3,  8, 13,  7, 15,  9,  4, 12, 14,  9,  5,  4,  5,  9, 17,\n",
       "       11,  1, 10, 15, 17, 10, 10, 17,  4, 17,  3, 15,  3,  3,  5, 14,  2,\n",
       "        6, 17,  4, 11, 10,  3,  3, 10, 15, 15,  6,  6, 11,  6, 17,  6, 15,\n",
       "        8, 10, 10,  6, 17, 17,  4,  3,  3, 10, 10,  3, 10,  1, 17, 14,  2,\n",
       "       14,  3, 14,  6,  2,  6,  6, 14,  6, 14,  6,  3,  8,  3, 10, 17, 17,\n",
       "       17,  6,  8,  3, 11,  8,  8, 15,  4,  3, 17, 15,  3, 14, 17, 10, 17,\n",
       "       15,  8,  8,  0,  2, 17, 10,  3,  8, 15, 12,  3,  2,  6,  3,  3,  8,\n",
       "       17,  6,  6,  2,  6, 10,  8, 17,  2, 10,  0,  2, 10, 14,  6, 17, 11,\n",
       "        3,  6, 14,  8, 10, 15,  3,  6,  4,  6, 14, 17,  8, 14, 15,  6, 14,\n",
       "       15, 12, 10,  6])"
      ]
     },
     "execution_count": 83,
     "metadata": {},
     "output_type": "execute_result"
    }
   ],
   "source": [
    "kmeans.labels_\n"
   ]
  },
  {
   "cell_type": "code",
   "execution_count": 85,
   "metadata": {},
   "outputs": [
    {
     "name": "stdout",
     "output_type": "stream",
     "text": [
      "[[4 0 1 3 0 3 3 5 1 1 0 3 1 2 2 2 3 4]\n",
      " [0 0 0 1 0 0 0 0 0 0 0 0 0 0 0 0 0 0]\n",
      " [0 0 0 0 1 0 0 0 0 0 0 1 0 1 2 0 2 0]\n",
      " [0 3 0 2 0 0 1 1 2 2 0 2 0 1 0 0 0 1]\n",
      " [0 0 0 0 0 0 1 0 1 0 1 0 2 1 0 1 2 0]\n",
      " [1 1 2 4 4 2 1 0 0 3 1 3 2 3 1 4 0 0]\n",
      " [0 1 0 6 2 0 3 1 2 4 1 0 1 2 3 0 1 1]\n",
      " [3 5 4 1 8 0 4 2 3 3 5 5 1 3 0 3 2 4]\n",
      " [0 0 0 5 4 0 3 6 3 7 3 5 0 3 2 1 0 5]\n",
      " [1 1 1 1 3 0 4 5 1 2 1 4 0 2 1 0 0 4]\n",
      " [1 2 1 2 4 0 3 2 3 2 2 1 0 2 2 1 0 3]\n",
      " [0 4 1 1 2 0 0 5 5 0 1 3 0 0 0 2 0 3]\n",
      " [0 6 0 1 1 0 1 7 5 5 2 1 0 0 1 2 0 1]\n",
      " [0 4 0 1 0 0 1 1 2 2 2 0 0 2 0 1 0 0]\n",
      " [0 0 0 1 2 0 0 1 1 0 1 0 0 0 0 0 0 0]\n",
      " [0 0 0 0 1 0 0 2 1 1 1 0 0 3 1 0 0 2]\n",
      " [0 2 0 1 0 0 0 1 0 0 0 0 0 0 0 0 0 1]\n",
      " [0 0 0 0 0 0 0 1 0 0 0 0 0 0 0 0 0 0]]\n",
      "              precision    recall  f1-score   support\n",
      "\n",
      "           0       0.40      0.11      0.17        38\n",
      "           1       0.00      0.00      0.00         1\n",
      "           2       0.00      0.00      0.00         7\n",
      "           3       0.07      0.13      0.09        15\n",
      "           4       0.00      0.00      0.00         9\n",
      "           5       0.40      0.06      0.11        32\n",
      "           6       0.12      0.11      0.11        28\n",
      "           7       0.05      0.04      0.04        56\n",
      "           8       0.10      0.06      0.08        47\n",
      "           9       0.06      0.06      0.06        31\n",
      "          10       0.10      0.06      0.08        31\n",
      "          11       0.11      0.11      0.11        27\n",
      "          12       0.00      0.00      0.00        33\n",
      "          13       0.08      0.12      0.10        16\n",
      "          14       0.00      0.00      0.00         6\n",
      "          15       0.00      0.00      0.00        12\n",
      "          16       0.00      0.00      0.00         5\n",
      "          17       0.00      0.00      0.00         1\n",
      "\n",
      "    accuracy                           0.06       395\n",
      "   macro avg       0.08      0.05      0.05       395\n",
      "weighted avg       0.12      0.06      0.07       395\n",
      "\n"
     ]
    }
   ],
   "source": [
    "from sklearn.metrics import classification_report, confusion_matrix\n",
    "\n",
    "print(confusion_matrix(student.G3, kmeans.labels_))\n",
    "print(classification_report(student.G3, kmeans.labels_))"
   ]
  },
  {
   "cell_type": "code",
   "execution_count": 86,
   "metadata": {},
   "outputs": [
    {
     "name": "stdout",
     "output_type": "stream",
     "text": [
      "[[4 0 1 3 0 3 3 5 1 1 0 3 1 2 2 2 3 4]\n",
      " [0 0 0 1 0 0 0 0 0 0 0 0 0 0 0 0 0 0]\n",
      " [0 0 0 0 1 0 0 0 0 0 0 1 0 1 2 0 2 0]\n",
      " [0 3 0 2 0 0 1 1 2 2 0 2 0 1 0 0 0 1]\n",
      " [0 0 0 0 0 0 1 0 1 0 1 0 2 1 0 1 2 0]\n",
      " [1 1 2 4 4 2 1 0 0 3 1 3 2 3 1 4 0 0]\n",
      " [0 1 0 6 2 0 3 1 2 4 1 0 1 2 3 0 1 1]\n",
      " [3 5 4 1 8 0 4 2 3 3 5 5 1 3 0 3 2 4]\n",
      " [0 0 0 5 4 0 3 6 3 7 3 5 0 3 2 1 0 5]\n",
      " [1 1 1 1 3 0 4 5 1 2 1 4 0 2 1 0 0 4]\n",
      " [1 2 1 2 4 0 3 2 3 2 2 1 0 2 2 1 0 3]\n",
      " [0 4 1 1 2 0 0 5 5 0 1 3 0 0 0 2 0 3]\n",
      " [0 6 0 1 1 0 1 7 5 5 2 1 0 0 1 2 0 1]\n",
      " [0 4 0 1 0 0 1 1 2 2 2 0 0 2 0 1 0 0]\n",
      " [0 0 0 1 2 0 0 1 1 0 1 0 0 0 0 0 0 0]\n",
      " [0 0 0 0 1 0 0 2 1 1 1 0 0 3 1 0 0 2]\n",
      " [0 2 0 1 0 0 0 1 0 0 0 0 0 0 0 0 0 1]\n",
      " [0 0 0 0 0 0 0 1 0 0 0 0 0 0 0 0 0 0]]\n",
      "              precision    recall  f1-score   support\n",
      "\n",
      "           0       0.40      0.11      0.17        38\n",
      "           1       0.00      0.00      0.00         1\n",
      "           2       0.00      0.00      0.00         7\n",
      "           3       0.07      0.13      0.09        15\n",
      "           4       0.00      0.00      0.00         9\n",
      "           5       0.40      0.06      0.11        32\n",
      "           6       0.12      0.11      0.11        28\n",
      "           7       0.05      0.04      0.04        56\n",
      "           8       0.10      0.06      0.08        47\n",
      "           9       0.06      0.06      0.06        31\n",
      "          10       0.10      0.06      0.08        31\n",
      "          11       0.11      0.11      0.11        27\n",
      "          12       0.00      0.00      0.00        33\n",
      "          13       0.08      0.12      0.10        16\n",
      "          14       0.00      0.00      0.00         6\n",
      "          15       0.00      0.00      0.00        12\n",
      "          16       0.00      0.00      0.00         5\n",
      "          17       0.00      0.00      0.00         1\n",
      "\n",
      "    accuracy                           0.06       395\n",
      "   macro avg       0.08      0.05      0.05       395\n",
      "weighted avg       0.12      0.06      0.07       395\n",
      "\n"
     ]
    }
   ],
   "source": [
    "from sklearn.metrics import classification_report, confusion_matrix\n",
    "\n",
    "print(confusion_matrix(student.G3, kmeans.labels_))\n",
    "print(classification_report(student.G3, kmeans.labels_))"
   ]
  },
  {
   "cell_type": "code",
   "execution_count": 91,
   "metadata": {},
   "outputs": [],
   "source": [
    "algorithm = (KMeans(n_clusters = 18 ,init='k-means++', n_init = 10 ,max_iter=300, \n",
    "                        tol=0.0001,  random_state= 111  , algorithm='elkan') )\n",
    "\n",
    "algorithm.fit(student.drop('G3', axis=1))\n",
    "labels3 = algorithm.labels_\n",
    "centroids3 = algorithm.cluster_centers_"
   ]
  },
  {
   "cell_type": "code",
   "execution_count": 92,
   "metadata": {},
   "outputs": [
    {
     "data": {
      "text/plain": [
       "array([[ 4.87804878e-02,  3.78048780e+00,  9.75609756e-01,\n",
       "         2.43902439e-02,  2.92682927e-01,  3.80487805e+00,\n",
       "         1.39024390e+00,  9.75609756e-02],\n",
       "       [ 2.59259259e-01,  1.62962963e+00,  9.62962963e-01,\n",
       "         3.70370370e-02,  1.33333333e+00,  1.59259259e+00,\n",
       "         3.33333333e+00,  3.70370370e-02],\n",
       "       [ 8.82352941e-01,  2.94117647e+00,  1.00000000e+00,\n",
       "        -2.08166817e-17,  3.70588235e+00,  2.35294118e+00,\n",
       "         1.82352941e+00,  5.88235294e-02],\n",
       "       [ 1.25000000e-01,  1.75000000e+00,  9.16666667e-01,\n",
       "         8.33333333e-02,  2.45833333e+00,  2.91666667e+00,\n",
       "         2.00000000e+00,  0.00000000e+00],\n",
       "       [ 2.43902439e-02,  3.56097561e+00,  1.00000000e+00,\n",
       "        -3.46944695e-17,  1.04878049e+00,  2.60975610e+00,\n",
       "         1.68292683e+00,  2.19512195e-01],\n",
       "       [ 1.53846154e-01,  2.11538462e+00,  1.00000000e+00,\n",
       "        -3.46944695e-17,  4.61538462e-01,  2.42307692e+00,\n",
       "         1.19230769e+00,  3.84615385e-02],\n",
       "       [ 3.20000000e-01,  1.20000000e+00,  9.20000000e-01,\n",
       "         8.00000000e-02,  3.04000000e+00,  1.12000000e+00,\n",
       "         1.92000000e+00,  0.00000000e+00],\n",
       "       [ 1.46341463e-01,  3.75609756e+00,  1.00000000e+00,\n",
       "        -3.46944695e-17,  2.68292683e+00,  3.65853659e+00,\n",
       "         2.78048780e+00,  1.21951220e-01],\n",
       "       [ 1.30434783e-01,  2.08695652e+00,  9.13043478e-01,\n",
       "         8.69565217e-02,  2.34782609e+00,  1.69565217e+00,\n",
       "         6.52173913e-01,  4.34782609e-02],\n",
       "       [ 5.88235294e-02,  1.17647059e+00,  1.00000000e+00,\n",
       "        -2.08166817e-17,  4.70588235e-01,  1.29411765e+00,\n",
       "         1.23529412e+00,  5.88235294e-02],\n",
       "       [ 7.50000000e-01,  2.16666667e+00,  6.66666667e-01,\n",
       "         3.33333333e-01,  3.25000000e+00,  1.91666667e+00,\n",
       "         3.58333333e+00,  0.00000000e+00],\n",
       "       [ 2.28571429e-01,  3.71428571e+00,  1.00000000e+00,\n",
       "        -3.46944695e-17,  1.00000000e+00,  3.60000000e+00,\n",
       "         3.62857143e+00,  2.00000000e-01],\n",
       "       [ 3.00000000e+00,  1.57142857e+00,  7.14285714e-01,\n",
       "         2.85714286e-01,  1.85714286e+00,  1.42857143e+00,\n",
       "         4.00000000e+00,  0.00000000e+00],\n",
       "       [ 2.30000000e+00,  2.40000000e+00,  7.00000000e-01,\n",
       "         3.00000000e-01,  9.00000000e-01,  1.80000000e+00,\n",
       "         1.00000000e+00,  1.00000000e-01],\n",
       "       [ 5.26315789e-02,  2.94736842e+00,  1.00000000e+00,\n",
       "        -2.77555756e-17,  1.63157895e+00,  1.21052632e+00,\n",
       "         2.36842105e+00,  0.00000000e+00],\n",
       "       [ 3.33333333e-01,  2.88888889e+00,  1.00000000e+00,\n",
       "         0.00000000e+00,  0.00000000e+00,  2.22222222e+00,\n",
       "         3.22222222e+00,  2.22222222e-01],\n",
       "       [ 0.00000000e+00,  3.93333333e+00,  1.00000000e+00,\n",
       "        -2.08166817e-17,  2.66666667e+00,  3.33333333e+00,\n",
       "         7.33333333e-01,  6.66666667e-02],\n",
       "       [ 2.83333333e+00,  1.66666667e+00,  5.00000000e-01,\n",
       "         5.00000000e-01,  5.00000000e+00,  1.33333333e+00,\n",
       "         2.66666667e+00,  0.00000000e+00]])"
      ]
     },
     "execution_count": 92,
     "metadata": {},
     "output_type": "execute_result"
    }
   ],
   "source": [
    "centroids3"
   ]
  },
  {
   "cell_type": "code",
   "execution_count": 103,
   "metadata": {},
   "outputs": [
    {
     "data": {
      "text/html": [
       "        <script type=\"text/javascript\">\n",
       "        window.PlotlyConfig = {MathJaxConfig: 'local'};\n",
       "        if (window.MathJax) {MathJax.Hub.Config({SVG: {font: \"STIX-Web\"}});}\n",
       "        if (typeof require !== 'undefined') {\n",
       "        require.undef(\"plotly\");\n",
       "        requirejs.config({\n",
       "            paths: {\n",
       "                'plotly': ['https://cdn.plot.ly/plotly-latest.min']\n",
       "            }\n",
       "        });\n",
       "        require(['plotly'], function(Plotly) {\n",
       "            window._Plotly = Plotly;\n",
       "        });\n",
       "        }\n",
       "        </script>\n",
       "        "
      ]
     },
     "metadata": {},
     "output_type": "display_data"
    }
   ],
   "source": [
    "import numpy as np # linear algebra\n",
    "import pandas as pd # data processing, CSV file I/O (e.g. pd.read_csv)\n",
    "import matplotlib.pyplot as plt \n",
    "import seaborn as sns \n",
    "import plotly as py\n",
    "import plotly.graph_objs as go\n",
    "from sklearn.cluster import KMeans\n",
    "import warnings\n",
    "import os\n",
    "warnings.filterwarnings(\"ignore\")\n",
    "py.offline.init_notebook_mode(connected = True)"
   ]
  },
  {
   "cell_type": "code",
   "execution_count": 105,
   "metadata": {},
   "outputs": [
    {
     "data": {
      "application/vnd.plotly.v1+json": {
       "config": {
        "linkText": "Export to plot.ly",
        "plotlyServerURL": "https://plot.ly",
        "showLink": false
       },
       "data": [
        {
         "marker": {
          "color": [
           7,
           6,
           13,
           4,
           4,
           4,
           1,
           7,
           5,
           0,
           0,
           9,
           0,
           0,
           5,
           11,
           0,
           4,
           12,
           4,
           0,
           0,
           4,
           1,
           5,
           13,
           5,
           15,
           0,
           11,
           0,
           0,
           0,
           5,
           4,
           5,
           0,
           0,
           0,
           5,
           5,
           0,
           0,
           5,
           5,
           0,
           11,
           4,
           4,
           11,
           5,
           4,
           15,
           11,
           15,
           1,
           0,
           0,
           9,
           4,
           11,
           1,
           9,
           11,
           11,
           4,
           0,
           14,
           5,
           5,
           14,
           4,
           1,
           14,
           4,
           0,
           14,
           5,
           13,
           0,
           5,
           5,
           15,
           5,
           9,
           11,
           1,
           4,
           5,
           0,
           4,
           11,
           14,
           4,
           15,
           9,
           4,
           1,
           11,
           11,
           11,
           0,
           0,
           15,
           11,
           4,
           5,
           4,
           11,
           11,
           0,
           4,
           5,
           4,
           9,
           11,
           0,
           4,
           3,
           0,
           9,
           15,
           5,
           11,
           1,
           11,
           0,
           17,
           2,
           11,
           0,
           9,
           1,
           0,
           0,
           0,
           11,
           13,
           1,
           0,
           0,
           13,
           0,
           1,
           12,
           9,
           13,
           9,
           0,
           12,
           12,
           1,
           13,
           17,
           16,
           15,
           8,
           12,
           5,
           11,
           13,
           15,
           1,
           3,
           12,
           13,
           1,
           4,
           1,
           0,
           11,
           9,
           7,
           12,
           11,
           7,
           1,
           7,
           4,
           4,
           4,
           4,
           3,
           4,
           4,
           7,
           9,
           14,
           4,
           3,
           5,
           6,
           1,
           4,
           5,
           3,
           7,
           11,
           7,
           0,
           11,
           5,
           1,
           8,
           1,
           7,
           13,
           4,
           9,
           16,
           2,
           11,
           1,
           10,
           16,
           14,
           11,
           7,
           3,
           3,
           1,
           1,
           5,
           3,
           0,
           2,
           14,
           3,
           8,
           14,
           4,
           8,
           11,
           11,
           9,
           4,
           8,
           9,
           8,
           10,
           11,
           7,
           11,
           0,
           6,
           14,
           3,
           17,
           2,
           9,
           10,
           4,
           10,
           9,
           8,
           1,
           4,
           16,
           6,
           8,
           16,
           16,
           8,
           4,
           3,
           7,
           14,
           7,
           7,
           10,
           10,
           10,
           6,
           8,
           3,
           1,
           8,
           7,
           7,
           7,
           14,
           14,
           6,
           6,
           1,
           6,
           3,
           6,
           6,
           7,
           16,
           16,
           6,
           8,
           8,
           4,
           7,
           7,
           7,
           16,
           7,
           16,
           4,
           8,
           2,
           3,
           2,
           7,
           2,
           6,
           10,
           8,
           6,
           2,
           6,
           2,
           6,
           7,
           7,
           7,
           16,
           8,
           8,
           14,
           6,
           7,
           11,
           1,
           7,
           7,
           10,
           3,
           7,
           3,
           10,
           11,
           2,
           8,
           2,
           14,
           10,
           7,
           7,
           8,
           3,
           2,
           16,
           7,
           4,
           10,
           17,
           7,
           3,
           6,
           11,
           7,
           7,
           14,
           6,
           6,
           3,
           6,
           16,
           7,
           8,
           3,
           16,
           8,
           3,
           16,
           2,
           6,
           3,
           1,
           7,
           6,
           2,
           7,
           2,
           14,
           7,
           6,
           3,
           6,
           2,
           3,
           7,
           2,
           14,
           8,
           17,
           14,
           17,
           8,
           6
          ],
          "line": {
           "color": [
            7,
            6,
            13,
            4,
            4,
            4,
            1,
            7,
            5,
            0,
            0,
            9,
            0,
            0,
            5,
            11,
            0,
            4,
            12,
            4,
            0,
            0,
            4,
            1,
            5,
            13,
            5,
            15,
            0,
            11,
            0,
            0,
            0,
            5,
            4,
            5,
            0,
            0,
            0,
            5,
            5,
            0,
            0,
            5,
            5,
            0,
            11,
            4,
            4,
            11,
            5,
            4,
            15,
            11,
            15,
            1,
            0,
            0,
            9,
            4,
            11,
            1,
            9,
            11,
            11,
            4,
            0,
            14,
            5,
            5,
            14,
            4,
            1,
            14,
            4,
            0,
            14,
            5,
            13,
            0,
            5,
            5,
            15,
            5,
            9,
            11,
            1,
            4,
            5,
            0,
            4,
            11,
            14,
            4,
            15,
            9,
            4,
            1,
            11,
            11,
            11,
            0,
            0,
            15,
            11,
            4,
            5,
            4,
            11,
            11,
            0,
            4,
            5,
            4,
            9,
            11,
            0,
            4,
            3,
            0,
            9,
            15,
            5,
            11,
            1,
            11,
            0,
            17,
            2,
            11,
            0,
            9,
            1,
            0,
            0,
            0,
            11,
            13,
            1,
            0,
            0,
            13,
            0,
            1,
            12,
            9,
            13,
            9,
            0,
            12,
            12,
            1,
            13,
            17,
            16,
            15,
            8,
            12,
            5,
            11,
            13,
            15,
            1,
            3,
            12,
            13,
            1,
            4,
            1,
            0,
            11,
            9,
            7,
            12,
            11,
            7,
            1,
            7,
            4,
            4,
            4,
            4,
            3,
            4,
            4,
            7,
            9,
            14,
            4,
            3,
            5,
            6,
            1,
            4,
            5,
            3,
            7,
            11,
            7,
            0,
            11,
            5,
            1,
            8,
            1,
            7,
            13,
            4,
            9,
            16,
            2,
            11,
            1,
            10,
            16,
            14,
            11,
            7,
            3,
            3,
            1,
            1,
            5,
            3,
            0,
            2,
            14,
            3,
            8,
            14,
            4,
            8,
            11,
            11,
            9,
            4,
            8,
            9,
            8,
            10,
            11,
            7,
            11,
            0,
            6,
            14,
            3,
            17,
            2,
            9,
            10,
            4,
            10,
            9,
            8,
            1,
            4,
            16,
            6,
            8,
            16,
            16,
            8,
            4,
            3,
            7,
            14,
            7,
            7,
            10,
            10,
            10,
            6,
            8,
            3,
            1,
            8,
            7,
            7,
            7,
            14,
            14,
            6,
            6,
            1,
            6,
            3,
            6,
            6,
            7,
            16,
            16,
            6,
            8,
            8,
            4,
            7,
            7,
            7,
            16,
            7,
            16,
            4,
            8,
            2,
            3,
            2,
            7,
            2,
            6,
            10,
            8,
            6,
            2,
            6,
            2,
            6,
            7,
            7,
            7,
            16,
            8,
            8,
            14,
            6,
            7,
            11,
            1,
            7,
            7,
            10,
            3,
            7,
            3,
            10,
            11,
            2,
            8,
            2,
            14,
            10,
            7,
            7,
            8,
            3,
            2,
            16,
            7,
            4,
            10,
            17,
            7,
            3,
            6,
            11,
            7,
            7,
            14,
            6,
            6,
            3,
            6,
            16,
            7,
            8,
            3,
            16,
            8,
            3,
            16,
            2,
            6,
            3,
            1,
            7,
            6,
            2,
            7,
            2,
            14,
            7,
            6,
            3,
            6,
            2,
            3,
            7,
            2,
            14,
            8,
            17,
            14,
            17,
            8,
            6
           ],
           "width": 12
          },
          "opacity": 0.8,
          "size": 20
         },
         "mode": "markers",
         "type": "scatter3d",
         "x": [
          0,
          0,
          3,
          0,
          0,
          0,
          0,
          0,
          0,
          0,
          0,
          0,
          0,
          0,
          0,
          0,
          0,
          0,
          3,
          0,
          0,
          0,
          0,
          0,
          0,
          2,
          0,
          0,
          0,
          0,
          0,
          0,
          0,
          0,
          0,
          0,
          0,
          0,
          0,
          0,
          1,
          0,
          0,
          0,
          1,
          0,
          0,
          0,
          0,
          1,
          0,
          0,
          1,
          0,
          0,
          0,
          0,
          0,
          0,
          0,
          0,
          0,
          0,
          0,
          0,
          0,
          0,
          0,
          0,
          0,
          0,
          0,
          2,
          0,
          0,
          0,
          0,
          0,
          3,
          0,
          0,
          0,
          0,
          0,
          0,
          2,
          0,
          0,
          1,
          0,
          0,
          0,
          0,
          0,
          0,
          1,
          0,
          0,
          0,
          0,
          0,
          0,
          0,
          0,
          0,
          0,
          0,
          0,
          0,
          0,
          0,
          1,
          1,
          0,
          0,
          0,
          0,
          0,
          1,
          0,
          0,
          0,
          0,
          0,
          0,
          0,
          0,
          3,
          2,
          0,
          2,
          0,
          0,
          0,
          0,
          0,
          0,
          2,
          1,
          0,
          0,
          2,
          0,
          0,
          3,
          0,
          3,
          0,
          0,
          3,
          3,
          1,
          2,
          3,
          0,
          0,
          0,
          3,
          0,
          1,
          2,
          2,
          1,
          0,
          3,
          1,
          0,
          0,
          0,
          0,
          2,
          0,
          0,
          3,
          0,
          0,
          0,
          0,
          0,
          0,
          0,
          0,
          0,
          0,
          0,
          0,
          0,
          0,
          0,
          0,
          0,
          0,
          0,
          0,
          0,
          0,
          0,
          0,
          1,
          0,
          0,
          0,
          0,
          0,
          0,
          1,
          3,
          0,
          0,
          0,
          0,
          0,
          0,
          1,
          0,
          0,
          2,
          1,
          0,
          0,
          0,
          1,
          0,
          0,
          0,
          1,
          0,
          0,
          0,
          0,
          0,
          0,
          0,
          0,
          0,
          0,
          0,
          0,
          0,
          1,
          0,
          0,
          0,
          0,
          0,
          0,
          0,
          3,
          1,
          0,
          1,
          0,
          1,
          0,
          0,
          1,
          0,
          0,
          0,
          0,
          0,
          0,
          0,
          0,
          0,
          0,
          0,
          0,
          0,
          0,
          2,
          0,
          0,
          0,
          0,
          0,
          0,
          0,
          1,
          0,
          0,
          1,
          0,
          0,
          0,
          0,
          0,
          0,
          0,
          0,
          0,
          0,
          1,
          0,
          0,
          0,
          0,
          0,
          0,
          0,
          0,
          0,
          0,
          0,
          1,
          1,
          0,
          1,
          1,
          1,
          1,
          0,
          1,
          1,
          2,
          1,
          0,
          0,
          0,
          0,
          0,
          0,
          0,
          0,
          0,
          0,
          0,
          0,
          0,
          0,
          0,
          0,
          0,
          0,
          0,
          0,
          1,
          0,
          0,
          0,
          1,
          1,
          0,
          1,
          0,
          0,
          0,
          0,
          0,
          1,
          3,
          0,
          1,
          1,
          0,
          0,
          0,
          0,
          0,
          0,
          0,
          1,
          0,
          0,
          0,
          0,
          0,
          1,
          0,
          0,
          2,
          0,
          0,
          0,
          0,
          0,
          2,
          0,
          0,
          0,
          0,
          0,
          0,
          1,
          1,
          0,
          0,
          1,
          0,
          1,
          2,
          0,
          3,
          0,
          0
         ],
         "y": [
          3,
          2,
          1,
          1,
          1,
          1,
          3,
          3,
          1,
          0,
          2,
          1,
          2,
          2,
          1,
          3,
          2,
          1,
          4,
          2,
          0,
          1,
          0,
          3,
          1,
          1,
          1,
          3,
          2,
          4,
          1,
          0,
          1,
          1,
          2,
          0,
          2,
          2,
          1,
          0,
          2,
          2,
          2,
          0,
          2,
          1,
          4,
          1,
          2,
          3,
          2,
          2,
          4,
          3,
          3,
          3,
          1,
          1,
          1,
          2,
          3,
          4,
          2,
          3,
          3,
          2,
          2,
          2,
          2,
          1,
          1,
          2,
          3,
          1,
          2,
          2,
          2,
          2,
          0,
          2,
          1,
          1,
          3,
          2,
          1,
          3,
          3,
          2,
          1,
          2,
          2,
          4,
          2,
          2,
          3,
          1,
          2,
          4,
          3,
          4,
          4,
          2,
          2,
          4,
          3,
          2,
          1,
          2,
          4,
          4,
          2,
          1,
          1,
          1,
          1,
          3,
          2,
          1,
          3,
          2,
          2,
          3,
          1,
          3,
          3,
          4,
          1,
          1,
          2,
          4,
          1,
          2,
          3,
          0,
          2,
          2,
          4,
          1,
          3,
          1,
          1,
          2,
          1,
          3,
          4,
          1,
          1,
          1,
          1,
          4,
          4,
          3,
          0,
          3,
          0,
          3,
          1,
          4,
          1,
          4,
          1,
          3,
          3,
          2,
          4,
          1,
          4,
          2,
          4,
          1,
          4,
          1,
          3,
          4,
          4,
          3,
          3,
          3,
          2,
          2,
          2,
          2,
          1,
          2,
          1,
          3,
          2,
          2,
          2,
          2,
          2,
          2,
          3,
          1,
          2,
          1,
          2,
          3,
          3,
          1,
          4,
          2,
          3,
          1,
          4,
          2,
          2,
          1,
          1,
          1,
          2,
          4,
          3,
          3,
          0,
          3,
          4,
          3,
          2,
          2,
          4,
          3,
          0,
          2,
          1,
          2,
          3,
          2,
          1,
          2,
          2,
          1,
          4,
          3,
          1,
          2,
          1,
          1,
          0,
          3,
          4,
          2,
          4,
          1,
          3,
          2,
          1,
          4,
          2,
          1,
          4,
          2,
          4,
          1,
          1,
          3,
          2,
          0,
          3,
          0,
          1,
          1,
          1,
          2,
          2,
          4,
          3,
          3,
          4,
          4,
          4,
          4,
          2,
          1,
          2,
          3,
          0,
          3,
          3,
          2,
          3,
          3,
          1,
          3,
          4,
          2,
          2,
          2,
          3,
          2,
          1,
          1,
          2,
          1,
          1,
          2,
          3,
          4,
          2,
          1,
          3,
          0,
          2,
          1,
          3,
          2,
          2,
          3,
          2,
          2,
          3,
          0,
          1,
          1,
          1,
          1,
          2,
          3,
          3,
          3,
          1,
          1,
          1,
          2,
          2,
          2,
          4,
          4,
          3,
          2,
          4,
          2,
          3,
          2,
          3,
          4,
          2,
          1,
          2,
          2,
          3,
          2,
          2,
          0,
          2,
          2,
          1,
          4,
          2,
          4,
          3,
          3,
          2,
          3,
          4,
          3,
          2,
          2,
          1,
          1,
          3,
          2,
          1,
          3,
          1,
          3,
          1,
          0,
          2,
          1,
          1,
          2,
          2,
          4,
          3,
          1,
          2,
          2,
          2,
          3,
          3,
          2,
          2,
          1,
          2,
          2,
          2,
          1,
          3,
          0,
          3,
          4,
          2,
          0,
          2
         ],
         "z": [
          3,
          2,
          0,
          0,
          1,
          1,
          1,
          2,
          0,
          0,
          0,
          0,
          0,
          0,
          0,
          1,
          1,
          1,
          2,
          1,
          0,
          0,
          1,
          1,
          0,
          1,
          0,
          0,
          1,
          1,
          0,
          0,
          0,
          0,
          1,
          0,
          0,
          1,
          0,
          0,
          1,
          0,
          0,
          0,
          1,
          0,
          1,
          1,
          0,
          0,
          1,
          0,
          0,
          0,
          0,
          1,
          0,
          0,
          0,
          1,
          1,
          1,
          1,
          1,
          0,
          1,
          0,
          1,
          0,
          0,
          1,
          0,
          0,
          1,
          1,
          0,
          0,
          1,
          2,
          1,
          0,
          0,
          0,
          0,
          0,
          0,
          1,
          0,
          1,
          1,
          1,
          0,
          1,
          1,
          0,
          0,
          1,
          1,
          1,
          1,
          1,
          1,
          0,
          0,
          0,
          0,
          0,
          1,
          0,
          1,
          0,
          1,
          1,
          0,
          0,
          1,
          0,
          1,
          2,
          0,
          0,
          0,
          1,
          1,
          1,
          0,
          0,
          4,
          3,
          1,
          0,
          0,
          2,
          1,
          0,
          0,
          2,
          1,
          1,
          0,
          0,
          1,
          0,
          1,
          2,
          0,
          0,
          0,
          1,
          0,
          3,
          1,
          0,
          4,
          2,
          0,
          2,
          3,
          1,
          1,
          2,
          0,
          1,
          2,
          2,
          1,
          1,
          1,
          1,
          1,
          1,
          1,
          2,
          1,
          1,
          2,
          1,
          2,
          1,
          2,
          1,
          1,
          2,
          2,
          1,
          2,
          1,
          1,
          2,
          2,
          1,
          2,
          2,
          1,
          1,
          2,
          2,
          1,
          2,
          1,
          1,
          1,
          2,
          2,
          1,
          2,
          1,
          1,
          1,
          2,
          4,
          2,
          1,
          3,
          2,
          2,
          2,
          3,
          2,
          2,
          2,
          2,
          1,
          3,
          1,
          3,
          2,
          2,
          3,
          2,
          2,
          2,
          2,
          1,
          1,
          1,
          2,
          1,
          2,
          3,
          2,
          2,
          1,
          1,
          3,
          1,
          2,
          7,
          3,
          1,
          3,
          1,
          3,
          1,
          2,
          2,
          2,
          4,
          3,
          2,
          3,
          3,
          3,
          2,
          3,
          3,
          2,
          3,
          3,
          3,
          4,
          3,
          3,
          2,
          2,
          2,
          3,
          3,
          3,
          3,
          2,
          2,
          3,
          3,
          2,
          2,
          3,
          2,
          3,
          3,
          3,
          2,
          3,
          2,
          3,
          2,
          4,
          3,
          3,
          3,
          3,
          2,
          2,
          2,
          4,
          3,
          5,
          4,
          4,
          4,
          4,
          4,
          4,
          4,
          4,
          4,
          3,
          3,
          2,
          3,
          2,
          2,
          2,
          2,
          2,
          3,
          2,
          2,
          2,
          2,
          3,
          2,
          3,
          3,
          3,
          2,
          4,
          2,
          3,
          2,
          4,
          3,
          3,
          2,
          3,
          3,
          3,
          3,
          2,
          3,
          4,
          2,
          3,
          4,
          2,
          3,
          2,
          2,
          3,
          3,
          3,
          3,
          3,
          2,
          2,
          3,
          3,
          2,
          3,
          3,
          4,
          3,
          2,
          2,
          3,
          3,
          5,
          3,
          3,
          2,
          3,
          3,
          2,
          4,
          3,
          3,
          3,
          4,
          3,
          3,
          5,
          2,
          6,
          3,
          4
         ]
        }
       ],
       "layout": {
        "scene": {
         "xaxis": {
          "title": {
           "text": "failures"
          }
         },
         "yaxis": {
          "title": {
           "text": "goout"
          }
         },
         "zaxis": {
          "title": {
           "text": "age"
          }
         }
        },
        "template": {
         "data": {
          "bar": [
           {
            "error_x": {
             "color": "#2a3f5f"
            },
            "error_y": {
             "color": "#2a3f5f"
            },
            "marker": {
             "line": {
              "color": "#E5ECF6",
              "width": 0.5
             }
            },
            "type": "bar"
           }
          ],
          "barpolar": [
           {
            "marker": {
             "line": {
              "color": "#E5ECF6",
              "width": 0.5
             }
            },
            "type": "barpolar"
           }
          ],
          "carpet": [
           {
            "aaxis": {
             "endlinecolor": "#2a3f5f",
             "gridcolor": "white",
             "linecolor": "white",
             "minorgridcolor": "white",
             "startlinecolor": "#2a3f5f"
            },
            "baxis": {
             "endlinecolor": "#2a3f5f",
             "gridcolor": "white",
             "linecolor": "white",
             "minorgridcolor": "white",
             "startlinecolor": "#2a3f5f"
            },
            "type": "carpet"
           }
          ],
          "choropleth": [
           {
            "colorbar": {
             "outlinewidth": 0,
             "ticks": ""
            },
            "type": "choropleth"
           }
          ],
          "contour": [
           {
            "colorbar": {
             "outlinewidth": 0,
             "ticks": ""
            },
            "colorscale": [
             [
              0,
              "#0d0887"
             ],
             [
              0.1111111111111111,
              "#46039f"
             ],
             [
              0.2222222222222222,
              "#7201a8"
             ],
             [
              0.3333333333333333,
              "#9c179e"
             ],
             [
              0.4444444444444444,
              "#bd3786"
             ],
             [
              0.5555555555555556,
              "#d8576b"
             ],
             [
              0.6666666666666666,
              "#ed7953"
             ],
             [
              0.7777777777777778,
              "#fb9f3a"
             ],
             [
              0.8888888888888888,
              "#fdca26"
             ],
             [
              1,
              "#f0f921"
             ]
            ],
            "type": "contour"
           }
          ],
          "contourcarpet": [
           {
            "colorbar": {
             "outlinewidth": 0,
             "ticks": ""
            },
            "type": "contourcarpet"
           }
          ],
          "heatmap": [
           {
            "colorbar": {
             "outlinewidth": 0,
             "ticks": ""
            },
            "colorscale": [
             [
              0,
              "#0d0887"
             ],
             [
              0.1111111111111111,
              "#46039f"
             ],
             [
              0.2222222222222222,
              "#7201a8"
             ],
             [
              0.3333333333333333,
              "#9c179e"
             ],
             [
              0.4444444444444444,
              "#bd3786"
             ],
             [
              0.5555555555555556,
              "#d8576b"
             ],
             [
              0.6666666666666666,
              "#ed7953"
             ],
             [
              0.7777777777777778,
              "#fb9f3a"
             ],
             [
              0.8888888888888888,
              "#fdca26"
             ],
             [
              1,
              "#f0f921"
             ]
            ],
            "type": "heatmap"
           }
          ],
          "heatmapgl": [
           {
            "colorbar": {
             "outlinewidth": 0,
             "ticks": ""
            },
            "colorscale": [
             [
              0,
              "#0d0887"
             ],
             [
              0.1111111111111111,
              "#46039f"
             ],
             [
              0.2222222222222222,
              "#7201a8"
             ],
             [
              0.3333333333333333,
              "#9c179e"
             ],
             [
              0.4444444444444444,
              "#bd3786"
             ],
             [
              0.5555555555555556,
              "#d8576b"
             ],
             [
              0.6666666666666666,
              "#ed7953"
             ],
             [
              0.7777777777777778,
              "#fb9f3a"
             ],
             [
              0.8888888888888888,
              "#fdca26"
             ],
             [
              1,
              "#f0f921"
             ]
            ],
            "type": "heatmapgl"
           }
          ],
          "histogram": [
           {
            "marker": {
             "colorbar": {
              "outlinewidth": 0,
              "ticks": ""
             }
            },
            "type": "histogram"
           }
          ],
          "histogram2d": [
           {
            "colorbar": {
             "outlinewidth": 0,
             "ticks": ""
            },
            "colorscale": [
             [
              0,
              "#0d0887"
             ],
             [
              0.1111111111111111,
              "#46039f"
             ],
             [
              0.2222222222222222,
              "#7201a8"
             ],
             [
              0.3333333333333333,
              "#9c179e"
             ],
             [
              0.4444444444444444,
              "#bd3786"
             ],
             [
              0.5555555555555556,
              "#d8576b"
             ],
             [
              0.6666666666666666,
              "#ed7953"
             ],
             [
              0.7777777777777778,
              "#fb9f3a"
             ],
             [
              0.8888888888888888,
              "#fdca26"
             ],
             [
              1,
              "#f0f921"
             ]
            ],
            "type": "histogram2d"
           }
          ],
          "histogram2dcontour": [
           {
            "colorbar": {
             "outlinewidth": 0,
             "ticks": ""
            },
            "colorscale": [
             [
              0,
              "#0d0887"
             ],
             [
              0.1111111111111111,
              "#46039f"
             ],
             [
              0.2222222222222222,
              "#7201a8"
             ],
             [
              0.3333333333333333,
              "#9c179e"
             ],
             [
              0.4444444444444444,
              "#bd3786"
             ],
             [
              0.5555555555555556,
              "#d8576b"
             ],
             [
              0.6666666666666666,
              "#ed7953"
             ],
             [
              0.7777777777777778,
              "#fb9f3a"
             ],
             [
              0.8888888888888888,
              "#fdca26"
             ],
             [
              1,
              "#f0f921"
             ]
            ],
            "type": "histogram2dcontour"
           }
          ],
          "mesh3d": [
           {
            "colorbar": {
             "outlinewidth": 0,
             "ticks": ""
            },
            "type": "mesh3d"
           }
          ],
          "parcoords": [
           {
            "line": {
             "colorbar": {
              "outlinewidth": 0,
              "ticks": ""
             }
            },
            "type": "parcoords"
           }
          ],
          "pie": [
           {
            "automargin": true,
            "type": "pie"
           }
          ],
          "scatter": [
           {
            "marker": {
             "colorbar": {
              "outlinewidth": 0,
              "ticks": ""
             }
            },
            "type": "scatter"
           }
          ],
          "scatter3d": [
           {
            "line": {
             "colorbar": {
              "outlinewidth": 0,
              "ticks": ""
             }
            },
            "marker": {
             "colorbar": {
              "outlinewidth": 0,
              "ticks": ""
             }
            },
            "type": "scatter3d"
           }
          ],
          "scattercarpet": [
           {
            "marker": {
             "colorbar": {
              "outlinewidth": 0,
              "ticks": ""
             }
            },
            "type": "scattercarpet"
           }
          ],
          "scattergeo": [
           {
            "marker": {
             "colorbar": {
              "outlinewidth": 0,
              "ticks": ""
             }
            },
            "type": "scattergeo"
           }
          ],
          "scattergl": [
           {
            "marker": {
             "colorbar": {
              "outlinewidth": 0,
              "ticks": ""
             }
            },
            "type": "scattergl"
           }
          ],
          "scattermapbox": [
           {
            "marker": {
             "colorbar": {
              "outlinewidth": 0,
              "ticks": ""
             }
            },
            "type": "scattermapbox"
           }
          ],
          "scatterpolar": [
           {
            "marker": {
             "colorbar": {
              "outlinewidth": 0,
              "ticks": ""
             }
            },
            "type": "scatterpolar"
           }
          ],
          "scatterpolargl": [
           {
            "marker": {
             "colorbar": {
              "outlinewidth": 0,
              "ticks": ""
             }
            },
            "type": "scatterpolargl"
           }
          ],
          "scatterternary": [
           {
            "marker": {
             "colorbar": {
              "outlinewidth": 0,
              "ticks": ""
             }
            },
            "type": "scatterternary"
           }
          ],
          "surface": [
           {
            "colorbar": {
             "outlinewidth": 0,
             "ticks": ""
            },
            "colorscale": [
             [
              0,
              "#0d0887"
             ],
             [
              0.1111111111111111,
              "#46039f"
             ],
             [
              0.2222222222222222,
              "#7201a8"
             ],
             [
              0.3333333333333333,
              "#9c179e"
             ],
             [
              0.4444444444444444,
              "#bd3786"
             ],
             [
              0.5555555555555556,
              "#d8576b"
             ],
             [
              0.6666666666666666,
              "#ed7953"
             ],
             [
              0.7777777777777778,
              "#fb9f3a"
             ],
             [
              0.8888888888888888,
              "#fdca26"
             ],
             [
              1,
              "#f0f921"
             ]
            ],
            "type": "surface"
           }
          ],
          "table": [
           {
            "cells": {
             "fill": {
              "color": "#EBF0F8"
             },
             "line": {
              "color": "white"
             }
            },
            "header": {
             "fill": {
              "color": "#C8D4E3"
             },
             "line": {
              "color": "white"
             }
            },
            "type": "table"
           }
          ]
         },
         "layout": {
          "annotationdefaults": {
           "arrowcolor": "#2a3f5f",
           "arrowhead": 0,
           "arrowwidth": 1
          },
          "coloraxis": {
           "colorbar": {
            "outlinewidth": 0,
            "ticks": ""
           }
          },
          "colorscale": {
           "diverging": [
            [
             0,
             "#8e0152"
            ],
            [
             0.1,
             "#c51b7d"
            ],
            [
             0.2,
             "#de77ae"
            ],
            [
             0.3,
             "#f1b6da"
            ],
            [
             0.4,
             "#fde0ef"
            ],
            [
             0.5,
             "#f7f7f7"
            ],
            [
             0.6,
             "#e6f5d0"
            ],
            [
             0.7,
             "#b8e186"
            ],
            [
             0.8,
             "#7fbc41"
            ],
            [
             0.9,
             "#4d9221"
            ],
            [
             1,
             "#276419"
            ]
           ],
           "sequential": [
            [
             0,
             "#0d0887"
            ],
            [
             0.1111111111111111,
             "#46039f"
            ],
            [
             0.2222222222222222,
             "#7201a8"
            ],
            [
             0.3333333333333333,
             "#9c179e"
            ],
            [
             0.4444444444444444,
             "#bd3786"
            ],
            [
             0.5555555555555556,
             "#d8576b"
            ],
            [
             0.6666666666666666,
             "#ed7953"
            ],
            [
             0.7777777777777778,
             "#fb9f3a"
            ],
            [
             0.8888888888888888,
             "#fdca26"
            ],
            [
             1,
             "#f0f921"
            ]
           ],
           "sequentialminus": [
            [
             0,
             "#0d0887"
            ],
            [
             0.1111111111111111,
             "#46039f"
            ],
            [
             0.2222222222222222,
             "#7201a8"
            ],
            [
             0.3333333333333333,
             "#9c179e"
            ],
            [
             0.4444444444444444,
             "#bd3786"
            ],
            [
             0.5555555555555556,
             "#d8576b"
            ],
            [
             0.6666666666666666,
             "#ed7953"
            ],
            [
             0.7777777777777778,
             "#fb9f3a"
            ],
            [
             0.8888888888888888,
             "#fdca26"
            ],
            [
             1,
             "#f0f921"
            ]
           ]
          },
          "colorway": [
           "#636efa",
           "#EF553B",
           "#00cc96",
           "#ab63fa",
           "#FFA15A",
           "#19d3f3",
           "#FF6692",
           "#B6E880",
           "#FF97FF",
           "#FECB52"
          ],
          "font": {
           "color": "#2a3f5f"
          },
          "geo": {
           "bgcolor": "white",
           "lakecolor": "white",
           "landcolor": "#E5ECF6",
           "showlakes": true,
           "showland": true,
           "subunitcolor": "white"
          },
          "hoverlabel": {
           "align": "left"
          },
          "hovermode": "closest",
          "mapbox": {
           "style": "light"
          },
          "paper_bgcolor": "white",
          "plot_bgcolor": "#E5ECF6",
          "polar": {
           "angularaxis": {
            "gridcolor": "white",
            "linecolor": "white",
            "ticks": ""
           },
           "bgcolor": "#E5ECF6",
           "radialaxis": {
            "gridcolor": "white",
            "linecolor": "white",
            "ticks": ""
           }
          },
          "scene": {
           "xaxis": {
            "backgroundcolor": "#E5ECF6",
            "gridcolor": "white",
            "gridwidth": 2,
            "linecolor": "white",
            "showbackground": true,
            "ticks": "",
            "zerolinecolor": "white"
           },
           "yaxis": {
            "backgroundcolor": "#E5ECF6",
            "gridcolor": "white",
            "gridwidth": 2,
            "linecolor": "white",
            "showbackground": true,
            "ticks": "",
            "zerolinecolor": "white"
           },
           "zaxis": {
            "backgroundcolor": "#E5ECF6",
            "gridcolor": "white",
            "gridwidth": 2,
            "linecolor": "white",
            "showbackground": true,
            "ticks": "",
            "zerolinecolor": "white"
           }
          },
          "shapedefaults": {
           "line": {
            "color": "#2a3f5f"
           }
          },
          "ternary": {
           "aaxis": {
            "gridcolor": "white",
            "linecolor": "white",
            "ticks": ""
           },
           "baxis": {
            "gridcolor": "white",
            "linecolor": "white",
            "ticks": ""
           },
           "bgcolor": "#E5ECF6",
           "caxis": {
            "gridcolor": "white",
            "linecolor": "white",
            "ticks": ""
           }
          },
          "title": {
           "x": 0.05
          },
          "xaxis": {
           "automargin": true,
           "gridcolor": "white",
           "linecolor": "white",
           "ticks": "",
           "title": {
            "standoff": 15
           },
           "zerolinecolor": "white",
           "zerolinewidth": 2
          },
          "yaxis": {
           "automargin": true,
           "gridcolor": "white",
           "linecolor": "white",
           "ticks": "",
           "title": {
            "standoff": 15
           },
           "zerolinecolor": "white",
           "zerolinewidth": 2
          }
         }
        },
        "title": {
         "text": "Clusters"
        }
       }
      },
      "text/html": [
       "<div>\n",
       "        \n",
       "        \n",
       "            <div id=\"0110c906-04a6-44a2-836a-50b9be5447ed\" class=\"plotly-graph-div\" style=\"height:525px; width:100%;\"></div>\n",
       "            <script type=\"text/javascript\">\n",
       "                require([\"plotly\"], function(Plotly) {\n",
       "                    window.PLOTLYENV=window.PLOTLYENV || {};\n",
       "                    \n",
       "                if (document.getElementById(\"0110c906-04a6-44a2-836a-50b9be5447ed\")) {\n",
       "                    Plotly.newPlot(\n",
       "                        '0110c906-04a6-44a2-836a-50b9be5447ed',\n",
       "                        [{\"marker\": {\"color\": [7, 6, 13, 4, 4, 4, 1, 7, 5, 0, 0, 9, 0, 0, 5, 11, 0, 4, 12, 4, 0, 0, 4, 1, 5, 13, 5, 15, 0, 11, 0, 0, 0, 5, 4, 5, 0, 0, 0, 5, 5, 0, 0, 5, 5, 0, 11, 4, 4, 11, 5, 4, 15, 11, 15, 1, 0, 0, 9, 4, 11, 1, 9, 11, 11, 4, 0, 14, 5, 5, 14, 4, 1, 14, 4, 0, 14, 5, 13, 0, 5, 5, 15, 5, 9, 11, 1, 4, 5, 0, 4, 11, 14, 4, 15, 9, 4, 1, 11, 11, 11, 0, 0, 15, 11, 4, 5, 4, 11, 11, 0, 4, 5, 4, 9, 11, 0, 4, 3, 0, 9, 15, 5, 11, 1, 11, 0, 17, 2, 11, 0, 9, 1, 0, 0, 0, 11, 13, 1, 0, 0, 13, 0, 1, 12, 9, 13, 9, 0, 12, 12, 1, 13, 17, 16, 15, 8, 12, 5, 11, 13, 15, 1, 3, 12, 13, 1, 4, 1, 0, 11, 9, 7, 12, 11, 7, 1, 7, 4, 4, 4, 4, 3, 4, 4, 7, 9, 14, 4, 3, 5, 6, 1, 4, 5, 3, 7, 11, 7, 0, 11, 5, 1, 8, 1, 7, 13, 4, 9, 16, 2, 11, 1, 10, 16, 14, 11, 7, 3, 3, 1, 1, 5, 3, 0, 2, 14, 3, 8, 14, 4, 8, 11, 11, 9, 4, 8, 9, 8, 10, 11, 7, 11, 0, 6, 14, 3, 17, 2, 9, 10, 4, 10, 9, 8, 1, 4, 16, 6, 8, 16, 16, 8, 4, 3, 7, 14, 7, 7, 10, 10, 10, 6, 8, 3, 1, 8, 7, 7, 7, 14, 14, 6, 6, 1, 6, 3, 6, 6, 7, 16, 16, 6, 8, 8, 4, 7, 7, 7, 16, 7, 16, 4, 8, 2, 3, 2, 7, 2, 6, 10, 8, 6, 2, 6, 2, 6, 7, 7, 7, 16, 8, 8, 14, 6, 7, 11, 1, 7, 7, 10, 3, 7, 3, 10, 11, 2, 8, 2, 14, 10, 7, 7, 8, 3, 2, 16, 7, 4, 10, 17, 7, 3, 6, 11, 7, 7, 14, 6, 6, 3, 6, 16, 7, 8, 3, 16, 8, 3, 16, 2, 6, 3, 1, 7, 6, 2, 7, 2, 14, 7, 6, 3, 6, 2, 3, 7, 2, 14, 8, 17, 14, 17, 8, 6], \"line\": {\"color\": [7, 6, 13, 4, 4, 4, 1, 7, 5, 0, 0, 9, 0, 0, 5, 11, 0, 4, 12, 4, 0, 0, 4, 1, 5, 13, 5, 15, 0, 11, 0, 0, 0, 5, 4, 5, 0, 0, 0, 5, 5, 0, 0, 5, 5, 0, 11, 4, 4, 11, 5, 4, 15, 11, 15, 1, 0, 0, 9, 4, 11, 1, 9, 11, 11, 4, 0, 14, 5, 5, 14, 4, 1, 14, 4, 0, 14, 5, 13, 0, 5, 5, 15, 5, 9, 11, 1, 4, 5, 0, 4, 11, 14, 4, 15, 9, 4, 1, 11, 11, 11, 0, 0, 15, 11, 4, 5, 4, 11, 11, 0, 4, 5, 4, 9, 11, 0, 4, 3, 0, 9, 15, 5, 11, 1, 11, 0, 17, 2, 11, 0, 9, 1, 0, 0, 0, 11, 13, 1, 0, 0, 13, 0, 1, 12, 9, 13, 9, 0, 12, 12, 1, 13, 17, 16, 15, 8, 12, 5, 11, 13, 15, 1, 3, 12, 13, 1, 4, 1, 0, 11, 9, 7, 12, 11, 7, 1, 7, 4, 4, 4, 4, 3, 4, 4, 7, 9, 14, 4, 3, 5, 6, 1, 4, 5, 3, 7, 11, 7, 0, 11, 5, 1, 8, 1, 7, 13, 4, 9, 16, 2, 11, 1, 10, 16, 14, 11, 7, 3, 3, 1, 1, 5, 3, 0, 2, 14, 3, 8, 14, 4, 8, 11, 11, 9, 4, 8, 9, 8, 10, 11, 7, 11, 0, 6, 14, 3, 17, 2, 9, 10, 4, 10, 9, 8, 1, 4, 16, 6, 8, 16, 16, 8, 4, 3, 7, 14, 7, 7, 10, 10, 10, 6, 8, 3, 1, 8, 7, 7, 7, 14, 14, 6, 6, 1, 6, 3, 6, 6, 7, 16, 16, 6, 8, 8, 4, 7, 7, 7, 16, 7, 16, 4, 8, 2, 3, 2, 7, 2, 6, 10, 8, 6, 2, 6, 2, 6, 7, 7, 7, 16, 8, 8, 14, 6, 7, 11, 1, 7, 7, 10, 3, 7, 3, 10, 11, 2, 8, 2, 14, 10, 7, 7, 8, 3, 2, 16, 7, 4, 10, 17, 7, 3, 6, 11, 7, 7, 14, 6, 6, 3, 6, 16, 7, 8, 3, 16, 8, 3, 16, 2, 6, 3, 1, 7, 6, 2, 7, 2, 14, 7, 6, 3, 6, 2, 3, 7, 2, 14, 8, 17, 14, 17, 8, 6], \"width\": 12}, \"opacity\": 0.8, \"size\": 20}, \"mode\": \"markers\", \"type\": \"scatter3d\", \"x\": [0, 0, 3, 0, 0, 0, 0, 0, 0, 0, 0, 0, 0, 0, 0, 0, 0, 0, 3, 0, 0, 0, 0, 0, 0, 2, 0, 0, 0, 0, 0, 0, 0, 0, 0, 0, 0, 0, 0, 0, 1, 0, 0, 0, 1, 0, 0, 0, 0, 1, 0, 0, 1, 0, 0, 0, 0, 0, 0, 0, 0, 0, 0, 0, 0, 0, 0, 0, 0, 0, 0, 0, 2, 0, 0, 0, 0, 0, 3, 0, 0, 0, 0, 0, 0, 2, 0, 0, 1, 0, 0, 0, 0, 0, 0, 1, 0, 0, 0, 0, 0, 0, 0, 0, 0, 0, 0, 0, 0, 0, 0, 1, 1, 0, 0, 0, 0, 0, 1, 0, 0, 0, 0, 0, 0, 0, 0, 3, 2, 0, 2, 0, 0, 0, 0, 0, 0, 2, 1, 0, 0, 2, 0, 0, 3, 0, 3, 0, 0, 3, 3, 1, 2, 3, 0, 0, 0, 3, 0, 1, 2, 2, 1, 0, 3, 1, 0, 0, 0, 0, 2, 0, 0, 3, 0, 0, 0, 0, 0, 0, 0, 0, 0, 0, 0, 0, 0, 0, 0, 0, 0, 0, 0, 0, 0, 0, 0, 0, 1, 0, 0, 0, 0, 0, 0, 1, 3, 0, 0, 0, 0, 0, 0, 1, 0, 0, 2, 1, 0, 0, 0, 1, 0, 0, 0, 1, 0, 0, 0, 0, 0, 0, 0, 0, 0, 0, 0, 0, 0, 1, 0, 0, 0, 0, 0, 0, 0, 3, 1, 0, 1, 0, 1, 0, 0, 1, 0, 0, 0, 0, 0, 0, 0, 0, 0, 0, 0, 0, 0, 0, 2, 0, 0, 0, 0, 0, 0, 0, 1, 0, 0, 1, 0, 0, 0, 0, 0, 0, 0, 0, 0, 0, 1, 0, 0, 0, 0, 0, 0, 0, 0, 0, 0, 0, 1, 1, 0, 1, 1, 1, 1, 0, 1, 1, 2, 1, 0, 0, 0, 0, 0, 0, 0, 0, 0, 0, 0, 0, 0, 0, 0, 0, 0, 0, 0, 0, 1, 0, 0, 0, 1, 1, 0, 1, 0, 0, 0, 0, 0, 1, 3, 0, 1, 1, 0, 0, 0, 0, 0, 0, 0, 1, 0, 0, 0, 0, 0, 1, 0, 0, 2, 0, 0, 0, 0, 0, 2, 0, 0, 0, 0, 0, 0, 1, 1, 0, 0, 1, 0, 1, 2, 0, 3, 0, 0], \"y\": [3, 2, 1, 1, 1, 1, 3, 3, 1, 0, 2, 1, 2, 2, 1, 3, 2, 1, 4, 2, 0, 1, 0, 3, 1, 1, 1, 3, 2, 4, 1, 0, 1, 1, 2, 0, 2, 2, 1, 0, 2, 2, 2, 0, 2, 1, 4, 1, 2, 3, 2, 2, 4, 3, 3, 3, 1, 1, 1, 2, 3, 4, 2, 3, 3, 2, 2, 2, 2, 1, 1, 2, 3, 1, 2, 2, 2, 2, 0, 2, 1, 1, 3, 2, 1, 3, 3, 2, 1, 2, 2, 4, 2, 2, 3, 1, 2, 4, 3, 4, 4, 2, 2, 4, 3, 2, 1, 2, 4, 4, 2, 1, 1, 1, 1, 3, 2, 1, 3, 2, 2, 3, 1, 3, 3, 4, 1, 1, 2, 4, 1, 2, 3, 0, 2, 2, 4, 1, 3, 1, 1, 2, 1, 3, 4, 1, 1, 1, 1, 4, 4, 3, 0, 3, 0, 3, 1, 4, 1, 4, 1, 3, 3, 2, 4, 1, 4, 2, 4, 1, 4, 1, 3, 4, 4, 3, 3, 3, 2, 2, 2, 2, 1, 2, 1, 3, 2, 2, 2, 2, 2, 2, 3, 1, 2, 1, 2, 3, 3, 1, 4, 2, 3, 1, 4, 2, 2, 1, 1, 1, 2, 4, 3, 3, 0, 3, 4, 3, 2, 2, 4, 3, 0, 2, 1, 2, 3, 2, 1, 2, 2, 1, 4, 3, 1, 2, 1, 1, 0, 3, 4, 2, 4, 1, 3, 2, 1, 4, 2, 1, 4, 2, 4, 1, 1, 3, 2, 0, 3, 0, 1, 1, 1, 2, 2, 4, 3, 3, 4, 4, 4, 4, 2, 1, 2, 3, 0, 3, 3, 2, 3, 3, 1, 3, 4, 2, 2, 2, 3, 2, 1, 1, 2, 1, 1, 2, 3, 4, 2, 1, 3, 0, 2, 1, 3, 2, 2, 3, 2, 2, 3, 0, 1, 1, 1, 1, 2, 3, 3, 3, 1, 1, 1, 2, 2, 2, 4, 4, 3, 2, 4, 2, 3, 2, 3, 4, 2, 1, 2, 2, 3, 2, 2, 0, 2, 2, 1, 4, 2, 4, 3, 3, 2, 3, 4, 3, 2, 2, 1, 1, 3, 2, 1, 3, 1, 3, 1, 0, 2, 1, 1, 2, 2, 4, 3, 1, 2, 2, 2, 3, 3, 2, 2, 1, 2, 2, 2, 1, 3, 0, 3, 4, 2, 0, 2], \"z\": [3, 2, 0, 0, 1, 1, 1, 2, 0, 0, 0, 0, 0, 0, 0, 1, 1, 1, 2, 1, 0, 0, 1, 1, 0, 1, 0, 0, 1, 1, 0, 0, 0, 0, 1, 0, 0, 1, 0, 0, 1, 0, 0, 0, 1, 0, 1, 1, 0, 0, 1, 0, 0, 0, 0, 1, 0, 0, 0, 1, 1, 1, 1, 1, 0, 1, 0, 1, 0, 0, 1, 0, 0, 1, 1, 0, 0, 1, 2, 1, 0, 0, 0, 0, 0, 0, 1, 0, 1, 1, 1, 0, 1, 1, 0, 0, 1, 1, 1, 1, 1, 1, 0, 0, 0, 0, 0, 1, 0, 1, 0, 1, 1, 0, 0, 1, 0, 1, 2, 0, 0, 0, 1, 1, 1, 0, 0, 4, 3, 1, 0, 0, 2, 1, 0, 0, 2, 1, 1, 0, 0, 1, 0, 1, 2, 0, 0, 0, 1, 0, 3, 1, 0, 4, 2, 0, 2, 3, 1, 1, 2, 0, 1, 2, 2, 1, 1, 1, 1, 1, 1, 1, 2, 1, 1, 2, 1, 2, 1, 2, 1, 1, 2, 2, 1, 2, 1, 1, 2, 2, 1, 2, 2, 1, 1, 2, 2, 1, 2, 1, 1, 1, 2, 2, 1, 2, 1, 1, 1, 2, 4, 2, 1, 3, 2, 2, 2, 3, 2, 2, 2, 2, 1, 3, 1, 3, 2, 2, 3, 2, 2, 2, 2, 1, 1, 1, 2, 1, 2, 3, 2, 2, 1, 1, 3, 1, 2, 7, 3, 1, 3, 1, 3, 1, 2, 2, 2, 4, 3, 2, 3, 3, 3, 2, 3, 3, 2, 3, 3, 3, 4, 3, 3, 2, 2, 2, 3, 3, 3, 3, 2, 2, 3, 3, 2, 2, 3, 2, 3, 3, 3, 2, 3, 2, 3, 2, 4, 3, 3, 3, 3, 2, 2, 2, 4, 3, 5, 4, 4, 4, 4, 4, 4, 4, 4, 4, 3, 3, 2, 3, 2, 2, 2, 2, 2, 3, 2, 2, 2, 2, 3, 2, 3, 3, 3, 2, 4, 2, 3, 2, 4, 3, 3, 2, 3, 3, 3, 3, 2, 3, 4, 2, 3, 4, 2, 3, 2, 2, 3, 3, 3, 3, 3, 2, 2, 3, 3, 2, 3, 3, 4, 3, 2, 2, 3, 3, 5, 3, 3, 2, 3, 3, 2, 4, 3, 3, 3, 4, 3, 3, 5, 2, 6, 3, 4]}],\n",
       "                        {\"scene\": {\"xaxis\": {\"title\": {\"text\": \"failures\"}}, \"yaxis\": {\"title\": {\"text\": \"goout\"}}, \"zaxis\": {\"title\": {\"text\": \"age\"}}}, \"template\": {\"data\": {\"bar\": [{\"error_x\": {\"color\": \"#2a3f5f\"}, \"error_y\": {\"color\": \"#2a3f5f\"}, \"marker\": {\"line\": {\"color\": \"#E5ECF6\", \"width\": 0.5}}, \"type\": \"bar\"}], \"barpolar\": [{\"marker\": {\"line\": {\"color\": \"#E5ECF6\", \"width\": 0.5}}, \"type\": \"barpolar\"}], \"carpet\": [{\"aaxis\": {\"endlinecolor\": \"#2a3f5f\", \"gridcolor\": \"white\", \"linecolor\": \"white\", \"minorgridcolor\": \"white\", \"startlinecolor\": \"#2a3f5f\"}, \"baxis\": {\"endlinecolor\": \"#2a3f5f\", \"gridcolor\": \"white\", \"linecolor\": \"white\", \"minorgridcolor\": \"white\", \"startlinecolor\": \"#2a3f5f\"}, \"type\": \"carpet\"}], \"choropleth\": [{\"colorbar\": {\"outlinewidth\": 0, \"ticks\": \"\"}, \"type\": \"choropleth\"}], \"contour\": [{\"colorbar\": {\"outlinewidth\": 0, \"ticks\": \"\"}, \"colorscale\": [[0.0, \"#0d0887\"], [0.1111111111111111, \"#46039f\"], [0.2222222222222222, \"#7201a8\"], [0.3333333333333333, \"#9c179e\"], [0.4444444444444444, \"#bd3786\"], [0.5555555555555556, \"#d8576b\"], [0.6666666666666666, \"#ed7953\"], [0.7777777777777778, \"#fb9f3a\"], [0.8888888888888888, \"#fdca26\"], [1.0, \"#f0f921\"]], \"type\": \"contour\"}], \"contourcarpet\": [{\"colorbar\": {\"outlinewidth\": 0, \"ticks\": \"\"}, \"type\": \"contourcarpet\"}], \"heatmap\": [{\"colorbar\": {\"outlinewidth\": 0, \"ticks\": \"\"}, \"colorscale\": [[0.0, \"#0d0887\"], [0.1111111111111111, \"#46039f\"], [0.2222222222222222, \"#7201a8\"], [0.3333333333333333, \"#9c179e\"], [0.4444444444444444, \"#bd3786\"], [0.5555555555555556, \"#d8576b\"], [0.6666666666666666, \"#ed7953\"], [0.7777777777777778, \"#fb9f3a\"], [0.8888888888888888, \"#fdca26\"], [1.0, \"#f0f921\"]], \"type\": \"heatmap\"}], \"heatmapgl\": [{\"colorbar\": {\"outlinewidth\": 0, \"ticks\": \"\"}, \"colorscale\": [[0.0, \"#0d0887\"], [0.1111111111111111, \"#46039f\"], [0.2222222222222222, \"#7201a8\"], [0.3333333333333333, \"#9c179e\"], [0.4444444444444444, \"#bd3786\"], [0.5555555555555556, \"#d8576b\"], [0.6666666666666666, \"#ed7953\"], [0.7777777777777778, \"#fb9f3a\"], [0.8888888888888888, \"#fdca26\"], [1.0, \"#f0f921\"]], \"type\": \"heatmapgl\"}], \"histogram\": [{\"marker\": {\"colorbar\": {\"outlinewidth\": 0, \"ticks\": \"\"}}, \"type\": \"histogram\"}], \"histogram2d\": [{\"colorbar\": {\"outlinewidth\": 0, \"ticks\": \"\"}, \"colorscale\": [[0.0, \"#0d0887\"], [0.1111111111111111, \"#46039f\"], [0.2222222222222222, \"#7201a8\"], [0.3333333333333333, \"#9c179e\"], [0.4444444444444444, \"#bd3786\"], [0.5555555555555556, \"#d8576b\"], [0.6666666666666666, \"#ed7953\"], [0.7777777777777778, \"#fb9f3a\"], [0.8888888888888888, \"#fdca26\"], [1.0, \"#f0f921\"]], \"type\": \"histogram2d\"}], \"histogram2dcontour\": [{\"colorbar\": {\"outlinewidth\": 0, \"ticks\": \"\"}, \"colorscale\": [[0.0, \"#0d0887\"], [0.1111111111111111, \"#46039f\"], [0.2222222222222222, \"#7201a8\"], [0.3333333333333333, \"#9c179e\"], [0.4444444444444444, \"#bd3786\"], [0.5555555555555556, \"#d8576b\"], [0.6666666666666666, \"#ed7953\"], [0.7777777777777778, \"#fb9f3a\"], [0.8888888888888888, \"#fdca26\"], [1.0, \"#f0f921\"]], \"type\": \"histogram2dcontour\"}], \"mesh3d\": [{\"colorbar\": {\"outlinewidth\": 0, \"ticks\": \"\"}, \"type\": \"mesh3d\"}], \"parcoords\": [{\"line\": {\"colorbar\": {\"outlinewidth\": 0, \"ticks\": \"\"}}, \"type\": \"parcoords\"}], \"pie\": [{\"automargin\": true, \"type\": \"pie\"}], \"scatter\": [{\"marker\": {\"colorbar\": {\"outlinewidth\": 0, \"ticks\": \"\"}}, \"type\": \"scatter\"}], \"scatter3d\": [{\"line\": {\"colorbar\": {\"outlinewidth\": 0, \"ticks\": \"\"}}, \"marker\": {\"colorbar\": {\"outlinewidth\": 0, \"ticks\": \"\"}}, \"type\": \"scatter3d\"}], \"scattercarpet\": [{\"marker\": {\"colorbar\": {\"outlinewidth\": 0, \"ticks\": \"\"}}, \"type\": \"scattercarpet\"}], \"scattergeo\": [{\"marker\": {\"colorbar\": {\"outlinewidth\": 0, \"ticks\": \"\"}}, \"type\": \"scattergeo\"}], \"scattergl\": [{\"marker\": {\"colorbar\": {\"outlinewidth\": 0, \"ticks\": \"\"}}, \"type\": \"scattergl\"}], \"scattermapbox\": [{\"marker\": {\"colorbar\": {\"outlinewidth\": 0, \"ticks\": \"\"}}, \"type\": \"scattermapbox\"}], \"scatterpolar\": [{\"marker\": {\"colorbar\": {\"outlinewidth\": 0, \"ticks\": \"\"}}, \"type\": \"scatterpolar\"}], \"scatterpolargl\": [{\"marker\": {\"colorbar\": {\"outlinewidth\": 0, \"ticks\": \"\"}}, \"type\": \"scatterpolargl\"}], \"scatterternary\": [{\"marker\": {\"colorbar\": {\"outlinewidth\": 0, \"ticks\": \"\"}}, \"type\": \"scatterternary\"}], \"surface\": [{\"colorbar\": {\"outlinewidth\": 0, \"ticks\": \"\"}, \"colorscale\": [[0.0, \"#0d0887\"], [0.1111111111111111, \"#46039f\"], [0.2222222222222222, \"#7201a8\"], [0.3333333333333333, \"#9c179e\"], [0.4444444444444444, \"#bd3786\"], [0.5555555555555556, \"#d8576b\"], [0.6666666666666666, \"#ed7953\"], [0.7777777777777778, \"#fb9f3a\"], [0.8888888888888888, \"#fdca26\"], [1.0, \"#f0f921\"]], \"type\": \"surface\"}], \"table\": [{\"cells\": {\"fill\": {\"color\": \"#EBF0F8\"}, \"line\": {\"color\": \"white\"}}, \"header\": {\"fill\": {\"color\": \"#C8D4E3\"}, \"line\": {\"color\": \"white\"}}, \"type\": \"table\"}]}, \"layout\": {\"annotationdefaults\": {\"arrowcolor\": \"#2a3f5f\", \"arrowhead\": 0, \"arrowwidth\": 1}, \"coloraxis\": {\"colorbar\": {\"outlinewidth\": 0, \"ticks\": \"\"}}, \"colorscale\": {\"diverging\": [[0, \"#8e0152\"], [0.1, \"#c51b7d\"], [0.2, \"#de77ae\"], [0.3, \"#f1b6da\"], [0.4, \"#fde0ef\"], [0.5, \"#f7f7f7\"], [0.6, \"#e6f5d0\"], [0.7, \"#b8e186\"], [0.8, \"#7fbc41\"], [0.9, \"#4d9221\"], [1, \"#276419\"]], \"sequential\": [[0.0, \"#0d0887\"], [0.1111111111111111, \"#46039f\"], [0.2222222222222222, \"#7201a8\"], [0.3333333333333333, \"#9c179e\"], [0.4444444444444444, \"#bd3786\"], [0.5555555555555556, \"#d8576b\"], [0.6666666666666666, \"#ed7953\"], [0.7777777777777778, \"#fb9f3a\"], [0.8888888888888888, \"#fdca26\"], [1.0, \"#f0f921\"]], \"sequentialminus\": [[0.0, \"#0d0887\"], [0.1111111111111111, \"#46039f\"], [0.2222222222222222, \"#7201a8\"], [0.3333333333333333, \"#9c179e\"], [0.4444444444444444, \"#bd3786\"], [0.5555555555555556, \"#d8576b\"], [0.6666666666666666, \"#ed7953\"], [0.7777777777777778, \"#fb9f3a\"], [0.8888888888888888, \"#fdca26\"], [1.0, \"#f0f921\"]]}, \"colorway\": [\"#636efa\", \"#EF553B\", \"#00cc96\", \"#ab63fa\", \"#FFA15A\", \"#19d3f3\", \"#FF6692\", \"#B6E880\", \"#FF97FF\", \"#FECB52\"], \"font\": {\"color\": \"#2a3f5f\"}, \"geo\": {\"bgcolor\": \"white\", \"lakecolor\": \"white\", \"landcolor\": \"#E5ECF6\", \"showlakes\": true, \"showland\": true, \"subunitcolor\": \"white\"}, \"hoverlabel\": {\"align\": \"left\"}, \"hovermode\": \"closest\", \"mapbox\": {\"style\": \"light\"}, \"paper_bgcolor\": \"white\", \"plot_bgcolor\": \"#E5ECF6\", \"polar\": {\"angularaxis\": {\"gridcolor\": \"white\", \"linecolor\": \"white\", \"ticks\": \"\"}, \"bgcolor\": \"#E5ECF6\", \"radialaxis\": {\"gridcolor\": \"white\", \"linecolor\": \"white\", \"ticks\": \"\"}}, \"scene\": {\"xaxis\": {\"backgroundcolor\": \"#E5ECF6\", \"gridcolor\": \"white\", \"gridwidth\": 2, \"linecolor\": \"white\", \"showbackground\": true, \"ticks\": \"\", \"zerolinecolor\": \"white\"}, \"yaxis\": {\"backgroundcolor\": \"#E5ECF6\", \"gridcolor\": \"white\", \"gridwidth\": 2, \"linecolor\": \"white\", \"showbackground\": true, \"ticks\": \"\", \"zerolinecolor\": \"white\"}, \"zaxis\": {\"backgroundcolor\": \"#E5ECF6\", \"gridcolor\": \"white\", \"gridwidth\": 2, \"linecolor\": \"white\", \"showbackground\": true, \"ticks\": \"\", \"zerolinecolor\": \"white\"}}, \"shapedefaults\": {\"line\": {\"color\": \"#2a3f5f\"}}, \"ternary\": {\"aaxis\": {\"gridcolor\": \"white\", \"linecolor\": \"white\", \"ticks\": \"\"}, \"baxis\": {\"gridcolor\": \"white\", \"linecolor\": \"white\", \"ticks\": \"\"}, \"bgcolor\": \"#E5ECF6\", \"caxis\": {\"gridcolor\": \"white\", \"linecolor\": \"white\", \"ticks\": \"\"}}, \"title\": {\"x\": 0.05}, \"xaxis\": {\"automargin\": true, \"gridcolor\": \"white\", \"linecolor\": \"white\", \"ticks\": \"\", \"title\": {\"standoff\": 15}, \"zerolinecolor\": \"white\", \"zerolinewidth\": 2}, \"yaxis\": {\"automargin\": true, \"gridcolor\": \"white\", \"linecolor\": \"white\", \"ticks\": \"\", \"title\": {\"standoff\": 15}, \"zerolinecolor\": \"white\", \"zerolinewidth\": 2}}}, \"title\": {\"text\": \"Clusters\"}},\n",
       "                        {\"responsive\": true}\n",
       "                    ).then(function(){\n",
       "                            \n",
       "var gd = document.getElementById('0110c906-04a6-44a2-836a-50b9be5447ed');\n",
       "var x = new MutationObserver(function (mutations, observer) {{\n",
       "        var display = window.getComputedStyle(gd).display;\n",
       "        if (!display || display === 'none') {{\n",
       "            console.log([gd, 'removed!']);\n",
       "            Plotly.purge(gd);\n",
       "            observer.disconnect();\n",
       "        }}\n",
       "}});\n",
       "\n",
       "// Listen for the removal of the full notebook cells\n",
       "var notebookContainer = gd.closest('#notebook-container');\n",
       "if (notebookContainer) {{\n",
       "    x.observe(notebookContainer, {childList: true});\n",
       "}}\n",
       "\n",
       "// Listen for the clearing of the current output cell\n",
       "var outputEl = gd.closest('.output');\n",
       "if (outputEl) {{\n",
       "    x.observe(outputEl, {childList: true});\n",
       "}}\n",
       "\n",
       "                        })\n",
       "                };\n",
       "                });\n",
       "            </script>\n",
       "        </div>"
      ]
     },
     "metadata": {},
     "output_type": "display_data"
    }
   ],
   "source": [
    "student['G3'] =  labels3\n",
    "trace1 = go.Scatter3d(\n",
    "    x= student['failures'],\n",
    "    y= student['goout'],\n",
    "    z= student['age'],\n",
    "    mode='markers',\n",
    "     marker=dict(\n",
    "        color = student['G3'], \n",
    "        size= 20,\n",
    "        line=dict(\n",
    "            color= student['G3'],\n",
    "            width= 12\n",
    "        ),\n",
    "        opacity=0.8\n",
    "     )\n",
    ")\n",
    "data = [trace1]\n",
    "layout = go.Layout(\n",
    "    #     margin=dict(\n",
    "#         l=0,\n",
    "#         r=0,\n",
    "#         b=0,\n",
    "#         t=0\n",
    "#     )\n",
    "    title= 'Clusters',\n",
    "    scene = dict(\n",
    "        \n",
    "            xaxis = dict(title  = 'failures'),\n",
    "            yaxis = dict(title  = 'goout'),\n",
    "            zaxis = dict(title  = 'age')\n",
    "        )\n",
    ")\n",
    "fig = go.Figure(data=data, layout=layout)\n",
    "py.offline.iplot(fig)"
   ]
  },
  {
   "cell_type": "code",
   "execution_count": null,
   "metadata": {},
   "outputs": [],
   "source": []
  },
  {
   "cell_type": "code",
   "execution_count": null,
   "metadata": {},
   "outputs": [],
   "source": []
  }
 ],
 "metadata": {
  "kernelspec": {
   "display_name": "Python 3",
   "language": "python",
   "name": "python3"
  },
  "language_info": {
   "codemirror_mode": {
    "name": "ipython",
    "version": 3
   },
   "file_extension": ".py",
   "mimetype": "text/x-python",
   "name": "python",
   "nbconvert_exporter": "python",
   "pygments_lexer": "ipython3",
   "version": "3.7.6"
  }
 },
 "nbformat": 4,
 "nbformat_minor": 4
}
