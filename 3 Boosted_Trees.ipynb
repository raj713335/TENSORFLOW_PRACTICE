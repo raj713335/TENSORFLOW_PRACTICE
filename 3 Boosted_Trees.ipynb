{
  "nbformat": 4,
  "nbformat_minor": 0,
  "metadata": {
    "colab": {
      "name": "Copy of Boosted_Trees_TF_2.0.ipynb",
      "provenance": [],
      "private_outputs": true,
      "collapsed_sections": []
    },
    "kernelspec": {
      "name": "python3",
      "display_name": "Python 3"
    },
    "accelerator": "GPU"
  },
  "cells": [
    {
      "cell_type": "code",
      "metadata": {
        "colab_type": "code",
        "id": "moB4tpEHxKB3",
        "colab": {}
      },
      "source": [
        "# Use seaborn for pairplot\n",
        "!pip install seaborn"
      ],
      "execution_count": null,
      "outputs": []
    },
    {
      "cell_type": "code",
      "metadata": {
        "colab_type": "code",
        "id": "1rRo8oNqZ-Rj",
        "colab": {}
      },
      "source": [
        "try:\n",
        "  %tensorflow_version 2.x\n",
        "except Exception:\n",
        "  pass"
      ],
      "execution_count": null,
      "outputs": []
    },
    {
      "cell_type": "markdown",
      "metadata": {
        "id": "1Z208sQ-d2_x",
        "colab_type": "text"
      },
      "source": [
        "## Import the required Modules"
      ]
    },
    {
      "cell_type": "code",
      "metadata": {
        "id": "4YT4KWH2bEh5",
        "colab_type": "code",
        "colab": {}
      },
      "source": [
        "from __future__ import absolute_import, division, print_function, unicode_literals\n",
        "\n",
        "import numpy as np\n",
        "import pandas as pd\n",
        "import seaborn as sb\n",
        "import tensorflow as tf\n",
        "from tensorflow import keras\n",
        "from sklearn.model_selection import train_test_split\n",
        "from sklearn.metrics import accuracy_score, precision_score, recall_score\n",
        "\n",
        "print(tf.__version__)"
      ],
      "execution_count": null,
      "outputs": []
    },
    {
      "cell_type": "markdown",
      "metadata": {
        "id": "NqipGnAxd7dS",
        "colab_type": "text"
      },
      "source": [
        "## Load and configure the Iris Dataset"
      ]
    },
    {
      "cell_type": "code",
      "metadata": {
        "id": "ixeEGkOMYfG0",
        "colab_type": "code",
        "colab": {}
      },
      "source": [
        "CSV_COLUMN_NAMES = ['SepalLength', 'SepalWidth', 'PetalLength', 'PetalWidth', 'Species']\n",
        "SPECIES = ['Setosa', 'Versicolor', 'Virginica']\n",
        "\n",
        "train_path = tf.keras.utils.get_file(\"iris_training.csv\", \"https://storage.googleapis.com/download.tensorflow.org/data/iris_training.csv\")\n",
        "test_path = tf.keras.utils.get_file(\"iris_test.csv\", \"https://storage.googleapis.com/download.tensorflow.org/data/iris_test.csv\")\n",
        "\n",
        "train = pd.read_csv(train_path, names=CSV_COLUMN_NAMES, header=0)\n",
        "train = train[train.Species >= 1]\n",
        "train['Species'] = train['Species'].replace([1,2], [0,1])\n",
        "test = pd.read_csv(test_path, names=CSV_COLUMN_NAMES, header=0)\n",
        "test = test[test.Species >= 1]\n",
        "test['Species'] = test['Species'].replace([1,2], [0,1])\n",
        "\n",
        "train.reset_index(drop=True, inplace=True)\n",
        "test.reset_index(drop=True, inplace=True)\n",
        "\n",
        "iris_dataset = pd.concat([train, test], axis=0)"
      ],
      "execution_count": null,
      "outputs": []
    },
    {
      "cell_type": "code",
      "metadata": {
        "id": "KzN21hKEJr4u",
        "colab_type": "code",
        "colab": {}
      },
      "source": [
        "iris_dataset.describe()"
      ],
      "execution_count": null,
      "outputs": []
    },
    {
      "cell_type": "markdown",
      "metadata": {
        "colab_type": "text",
        "id": "J4ubs136WLNp"
      },
      "source": [
        "## Checking the relation between the variables using Pairplot and Correlation Graph"
      ]
    },
    {
      "cell_type": "code",
      "metadata": {
        "colab_type": "code",
        "id": "oRKO_x8gWKv-",
        "colab": {}
      },
      "source": [
        "sb.pairplot(iris_dataset, diag_kind=\"kde\")"
      ],
      "execution_count": null,
      "outputs": []
    },
    {
      "cell_type": "code",
      "metadata": {
        "id": "BbatgoGzfD5S",
        "colab_type": "code",
        "colab": {}
      },
      "source": [
        "correlation_data = iris_dataset.corr()\n",
        "correlation_data.style.background_gradient(cmap='coolwarm', axis=None)"
      ],
      "execution_count": null,
      "outputs": []
    },
    {
      "cell_type": "markdown",
      "metadata": {
        "id": "WeL6ACuUgCHk",
        "colab_type": "text"
      },
      "source": [
        ""
      ]
    },
    {
      "cell_type": "markdown",
      "metadata": {
        "id": "s_eJiJzjfhSo",
        "colab_type": "text"
      },
      "source": [
        "## Descriptive Statistics - Central Tendency and Dispersion"
      ]
    },
    {
      "cell_type": "code",
      "metadata": {
        "id": "osfWwMtafEHy",
        "colab_type": "code",
        "colab": {}
      },
      "source": [
        "stats = iris_dataset.describe()\n",
        "iris_stats = stats.transpose()\n",
        "iris_stats"
      ],
      "execution_count": null,
      "outputs": []
    },
    {
      "cell_type": "markdown",
      "metadata": {
        "id": "5ONfi8-VgGRQ",
        "colab_type": "text"
      },
      "source": [
        "## Select the required columns"
      ]
    },
    {
      "cell_type": "code",
      "metadata": {
        "id": "Mojmc51X4vCv",
        "colab_type": "code",
        "colab": {}
      },
      "source": [
        "X_data = iris_dataset[[i for i in iris_dataset.columns if i not in ['Species']]]\n",
        "Y_data = iris_dataset[['Species']]"
      ],
      "execution_count": null,
      "outputs": []
    },
    {
      "cell_type": "markdown",
      "metadata": {
        "id": "Vj16Yg-XgK9O",
        "colab_type": "text"
      },
      "source": [
        "## Train Test Split"
      ]
    },
    {
      "cell_type": "code",
      "metadata": {
        "id": "DgDkB9NqqD1t",
        "colab_type": "code",
        "colab": {}
      },
      "source": [
        "train_features , test_features ,train_labels, test_labels = train_test_split(X_data , Y_data , test_size=0.3)"
      ],
      "execution_count": null,
      "outputs": []
    },
    {
      "cell_type": "code",
      "metadata": {
        "id": "D940EkTxqqrE",
        "colab_type": "code",
        "colab": {}
      },
      "source": [
        "print('Training Features Rows: ', train_features.shape[0])\n",
        "print('Test Features Rows: ', test_features.shape[0])\n",
        "print('Training Features Columns: ', train_features.shape[1])\n",
        "print('Test Features Columns: ', test_features.shape[1])\n",
        "\n",
        "print('Training Label Rows: ', train_labels.shape[0])\n",
        "print('Test Label Rows: ', test_labels.shape[0])\n",
        "print('Training Label Columns: ', train_labels.shape[1])\n",
        "print('Test Label Columns: ', test_labels.shape[1])"
      ],
      "execution_count": null,
      "outputs": []
    },
    {
      "cell_type": "code",
      "metadata": {
        "id": "abSKdhM71_In",
        "colab_type": "code",
        "colab": {}
      },
      "source": [
        "stats = train_features.describe()\n",
        "stats = stats.transpose()\n",
        "stats"
      ],
      "execution_count": null,
      "outputs": []
    },
    {
      "cell_type": "code",
      "metadata": {
        "id": "qP_sRTRCgRUm",
        "colab_type": "code",
        "colab": {}
      },
      "source": [
        "stats = test_features.describe()\n",
        "stats = stats.transpose()\n",
        "stats"
      ],
      "execution_count": null,
      "outputs": []
    },
    {
      "cell_type": "markdown",
      "metadata": {
        "colab_type": "text",
        "id": "SmjdzxKzEu1-"
      },
      "source": [
        "## Normalize Data"
      ]
    },
    {
      "cell_type": "code",
      "metadata": {
        "id": "zHOZyiJ7Hs2H",
        "colab_type": "code",
        "colab": {}
      },
      "source": [
        "def norm(x):\n",
        "  stats = x.describe()\n",
        "  stats = stats.transpose()\n",
        "  return (x - stats['mean']) / stats['std']\n",
        "\n",
        "normed_train_features = norm(train_features)\n",
        "normed_test_features = norm(test_features)"
      ],
      "execution_count": null,
      "outputs": []
    },
    {
      "cell_type": "markdown",
      "metadata": {
        "id": "pF3pQYwmgfky",
        "colab_type": "text"
      },
      "source": [
        "## Build the Input Pipeline for TensorFlow model"
      ]
    },
    {
      "cell_type": "code",
      "metadata": {
        "id": "qI1dTJcWpeVL",
        "colab_type": "code",
        "colab": {}
      },
      "source": [
        "def feed_input(features_df, target_df, num_of_epochs=10, shuffle=True, batch_size=35):\n",
        "  def input_feed_function():\n",
        "    dataset = tf.data.Dataset.from_tensor_slices((dict(features_df), target_df))\n",
        "    if shuffle:\n",
        "      dataset = dataset.shuffle(1000)\n",
        "    dataset = dataset.batch(batch_size).repeat(num_of_epochs)\n",
        "    return dataset\n",
        "  return input_feed_function\n",
        "\n",
        "train_feed_input = feed_input(normed_train_features, train_labels)\n",
        "train_feed_input_testing = feed_input(normed_train_features, train_labels, num_of_epochs=1, shuffle=False)\n",
        "test_feed_input = feed_input(normed_test_features, test_labels, num_of_epochs=1, shuffle=False)"
      ],
      "execution_count": null,
      "outputs": []
    },
    {
      "cell_type": "markdown",
      "metadata": {
        "id": "WCw3Zh1Vovzf",
        "colab_type": "text"
      },
      "source": [
        "## Model Training"
      ]
    },
    {
      "cell_type": "code",
      "metadata": {
        "id": "xpYQHKmqy3--",
        "colab_type": "code",
        "colab": {}
      },
      "source": [
        "feature_columns_numeric = [tf.feature_column.numeric_column(k) for k in train_features.columns]"
      ],
      "execution_count": null,
      "outputs": []
    },
    {
      "cell_type": "code",
      "metadata": {
        "id": "I85mYJ72rFz8",
        "colab_type": "code",
        "colab": {}
      },
      "source": [
        "rf_model = tf.estimator.BoostedTreesClassifier(feature_columns=feature_columns_numeric, n_batches_per_layer=1)"
      ],
      "execution_count": null,
      "outputs": []
    },
    {
      "cell_type": "code",
      "metadata": {
        "id": "h5ebRtr7rIXN",
        "colab_type": "code",
        "colab": {}
      },
      "source": [
        "rf_model.train(train_feed_input)"
      ],
      "execution_count": null,
      "outputs": []
    },
    {
      "cell_type": "markdown",
      "metadata": {
        "id": "QuCIeITNo_L7",
        "colab_type": "text"
      },
      "source": [
        "## Predictions"
      ]
    },
    {
      "cell_type": "code",
      "metadata": {
        "id": "ki_FevrGLCGb",
        "colab_type": "code",
        "colab": {}
      },
      "source": [
        "train_predictions = rf_model.predict(train_feed_input_testing)\n",
        "test_predictions = rf_model.predict(test_feed_input)"
      ],
      "execution_count": null,
      "outputs": []
    },
    {
      "cell_type": "code",
      "metadata": {
        "id": "Gfnd5pE2W2iX",
        "colab_type": "code",
        "colab": {}
      },
      "source": [
        "train_predictions_series = pd.Series([p['classes'][0].decode(\"utf-8\")   for p in train_predictions])\n",
        "test_predictions_series = pd.Series([p['classes'][0].decode(\"utf-8\")   for p in test_predictions])"
      ],
      "execution_count": null,
      "outputs": []
    },
    {
      "cell_type": "code",
      "metadata": {
        "id": "jqErzOxZMH67",
        "colab_type": "code",
        "colab": {}
      },
      "source": [
        "train_predictions_df = pd.DataFrame(train_predictions_series, columns=['predictions'])\n",
        "test_predictions_df = pd.DataFrame(test_predictions_series, columns=['predictions'])"
      ],
      "execution_count": null,
      "outputs": []
    },
    {
      "cell_type": "code",
      "metadata": {
        "id": "zM1QlGchTypw",
        "colab_type": "code",
        "colab": {}
      },
      "source": [
        "train_labels.reset_index(drop=True, inplace=True)\n",
        "train_predictions_df.reset_index(drop=True, inplace=True)\n",
        "\n",
        "test_labels.reset_index(drop=True, inplace=True)\n",
        "test_predictions_df.reset_index(drop=True, inplace=True)"
      ],
      "execution_count": null,
      "outputs": []
    },
    {
      "cell_type": "code",
      "metadata": {
        "id": "fPemk9i7Mdgn",
        "colab_type": "code",
        "colab": {}
      },
      "source": [
        "train_labels_with_predictions_df = pd.concat([train_labels, train_predictions_df], axis=1)\n",
        "test_labels_with_predictions_df = pd.concat([test_labels, test_predictions_df], axis=1)"
      ],
      "execution_count": null,
      "outputs": []
    },
    {
      "cell_type": "markdown",
      "metadata": {
        "id": "kw2eAJvRwBuo",
        "colab_type": "text"
      },
      "source": [
        "## Validation"
      ]
    },
    {
      "cell_type": "code",
      "metadata": {
        "id": "qAdgDDfxpgMc",
        "colab_type": "code",
        "colab": {}
      },
      "source": [
        "def calculate_binary_class_scores(y_true, y_pred):\n",
        "  acc_score = accuracy_score(y_true, y_pred.astype('int64'))\n",
        "  prec_score = precision_score(y_true, y_pred.astype('int64'))\n",
        "  rec_score = recall_score(y_true, y_pred.astype('int64'))\n",
        "  return acc_score, prec_score, rec_score\n",
        "\n"
      ],
      "execution_count": null,
      "outputs": []
    },
    {
      "cell_type": "code",
      "metadata": {
        "id": "7Fjo8OZoqOb-",
        "colab_type": "code",
        "colab": {}
      },
      "source": [
        "train_accuracy_score, train_precision_score, train_recall_score = calculate_binary_class_scores(train_labels, train_predictions_series)\n",
        "test_accuracy_score, test_precision_score, test_recall_score = calculate_binary_class_scores(test_labels, test_predictions_series)\n",
        "\n",
        "print('Training Data Accuracy (%) = ', round(train_accuracy_score*100,2))\n",
        "print('Training Data Precision (%) = ', round(train_precision_score*100,2))\n",
        "print('Training Data Recall (%) = ', round(train_recall_score*100,2))\n",
        "print('-'*50)\n",
        "print('Test Data Accuracy (%) = ', round(test_accuracy_score*100,2))\n",
        "print('Test Data Precision (%) = ', round(test_precision_score*100,2))\n",
        "print('Test Data Recall (%) = ', round(test_recall_score*100,2))\n"
      ],
      "execution_count": null,
      "outputs": []
    },
    {
      "cell_type": "code",
      "metadata": {
        "id": "1OLyfDoOk7md",
        "colab_type": "code",
        "colab": {}
      },
      "source": [
        ""
      ],
      "execution_count": null,
      "outputs": []
    }
  ]
}